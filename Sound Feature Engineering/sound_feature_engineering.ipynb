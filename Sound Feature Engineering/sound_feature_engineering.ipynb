{
 "cells": [
  {
   "cell_type": "code",
   "execution_count": 150,
   "metadata": {},
   "outputs": [],
   "source": [
    "import pandas as pd\n",
    "import numpy as np\n",
    "import matplotlib.pyplot as plt"
   ]
  },
  {
   "cell_type": "markdown",
   "metadata": {},
   "source": [
    "## Import packages we will use for importing and extracting information fromsound files"
   ]
  },
  {
   "cell_type": "code",
   "execution_count": 151,
   "metadata": {},
   "outputs": [],
   "source": [
    "import librosa as lr\n",
    "from glob import glob"
   ]
  },
  {
   "cell_type": "code",
   "execution_count": 152,
   "metadata": {},
   "outputs": [
    {
     "data": {
      "text/html": [
       "<div>\n",
       "<style scoped>\n",
       "    .dataframe tbody tr th:only-of-type {\n",
       "        vertical-align: middle;\n",
       "    }\n",
       "\n",
       "    .dataframe tbody tr th {\n",
       "        vertical-align: top;\n",
       "    }\n",
       "\n",
       "    .dataframe thead th {\n",
       "        text-align: right;\n",
       "    }\n",
       "</style>\n",
       "<table border=\"1\" class=\"dataframe\">\n",
       "  <thead>\n",
       "    <tr style=\"text-align: right;\">\n",
       "      <th></th>\n",
       "      <th>dataset</th>\n",
       "      <th>fname</th>\n",
       "      <th>label</th>\n",
       "      <th>sublabel</th>\n",
       "    </tr>\n",
       "  </thead>\n",
       "  <tbody>\n",
       "    <tr>\n",
       "      <th>0</th>\n",
       "      <td>a</td>\n",
       "      <td>set_a/artifact__201012172012.wav</td>\n",
       "      <td>artifact</td>\n",
       "      <td>NaN</td>\n",
       "    </tr>\n",
       "    <tr>\n",
       "      <th>1</th>\n",
       "      <td>a</td>\n",
       "      <td>set_a/artifact__201105040918.wav</td>\n",
       "      <td>artifact</td>\n",
       "      <td>NaN</td>\n",
       "    </tr>\n",
       "    <tr>\n",
       "      <th>2</th>\n",
       "      <td>a</td>\n",
       "      <td>set_a/artifact__201105041959.wav</td>\n",
       "      <td>artifact</td>\n",
       "      <td>NaN</td>\n",
       "    </tr>\n",
       "    <tr>\n",
       "      <th>3</th>\n",
       "      <td>a</td>\n",
       "      <td>set_a/artifact__201105051017.wav</td>\n",
       "      <td>artifact</td>\n",
       "      <td>NaN</td>\n",
       "    </tr>\n",
       "    <tr>\n",
       "      <th>4</th>\n",
       "      <td>a</td>\n",
       "      <td>set_a/artifact__201105060108.wav</td>\n",
       "      <td>artifact</td>\n",
       "      <td>NaN</td>\n",
       "    </tr>\n",
       "  </tbody>\n",
       "</table>\n",
       "</div>"
      ],
      "text/plain": [
       "  dataset                             fname     label  sublabel\n",
       "0       a  set_a/artifact__201012172012.wav  artifact       NaN\n",
       "1       a  set_a/artifact__201105040918.wav  artifact       NaN\n",
       "2       a  set_a/artifact__201105041959.wav  artifact       NaN\n",
       "3       a  set_a/artifact__201105051017.wav  artifact       NaN\n",
       "4       a  set_a/artifact__201105060108.wav  artifact       NaN"
      ]
     },
     "execution_count": 152,
     "metadata": {},
     "output_type": "execute_result"
    }
   ],
   "source": [
    "#read the csv file which contains informatiion about the audio files\n",
    "data_df=pd.read_csv('set_a.csv')\n",
    "data_df.head()"
   ]
  },
  {
   "cell_type": "code",
   "execution_count": 153,
   "metadata": {},
   "outputs": [
    {
     "data": {
      "text/plain": [
       "dataset       0\n",
       "fname         0\n",
       "label        52\n",
       "sublabel    176\n",
       "dtype: int64"
      ]
     },
     "execution_count": 153,
     "metadata": {},
     "output_type": "execute_result"
    }
   ],
   "source": [
    "data_df.isna().sum()"
   ]
  },
  {
   "cell_type": "code",
   "execution_count": 154,
   "metadata": {},
   "outputs": [],
   "source": [
    "#we should also drop the column sublabel because it doesnot have any input\n",
    "data_df=data_df.drop(labels='sublabel', axis=1)\n",
    "# rows with missing value doesnot contain any important information, we should drop them\n",
    "data_df=data_df.dropna(axis=0)"
   ]
  },
  {
   "cell_type": "code",
   "execution_count": 155,
   "metadata": {},
   "outputs": [
    {
     "data": {
      "text/plain": [
       "dataset    0\n",
       "fname      0\n",
       "label      0\n",
       "dtype: int64"
      ]
     },
     "execution_count": 155,
     "metadata": {},
     "output_type": "execute_result"
    }
   ],
   "source": [
    "data_df.isna().sum()"
   ]
  },
  {
   "cell_type": "code",
   "execution_count": 156,
   "metadata": {},
   "outputs": [
    {
     "data": {
      "text/plain": [
       "(124, 3)"
      ]
     },
     "execution_count": 156,
     "metadata": {},
     "output_type": "execute_result"
    }
   ],
   "source": [
    "data_df.shape"
   ]
  },
  {
   "cell_type": "markdown",
   "metadata": {},
   "source": [
    "## Import Audio files into workspcae using the glob package"
   ]
  },
  {
   "cell_type": "code",
   "execution_count": 157,
   "metadata": {},
   "outputs": [],
   "source": [
    "audio_files=glob('set_a/*.wav')"
   ]
  },
  {
   "cell_type": "code",
   "execution_count": 160,
   "metadata": {},
   "outputs": [
    {
     "name": "stdout",
     "output_type": "stream",
     "text": [
      "22050\n"
     ]
    }
   ],
   "source": [
    "# Read the first audio file and plot it\n",
    "audio, sfreq= lr.load(audio_files[50])\n",
    "# The frequency of Audio file [0] is\n",
    "print(sfreq)"
   ]
  },
  {
   "cell_type": "code",
   "execution_count": 161,
   "metadata": {},
   "outputs": [
    {
     "name": "stdout",
     "output_type": "stream",
     "text": [
      "set_a\\artifact__201012172012.wav\n"
     ]
    }
   ],
   "source": [
    "print(audio_files[0])"
   ]
  },
  {
   "cell_type": "code",
   "execution_count": 162,
   "metadata": {},
   "outputs": [
    {
     "data": {
      "image/png": "[encoded data removed]",
      "text/plain": [
       "<Figure size 432x288 with 1 Axes>"
      ]
     },
     "metadata": {
      "needs_background": "light"
     },
     "output_type": "display_data"
    }
   ],
   "source": [
    "# Create the time range for plotting the frequency\n",
    "time=np.arange(0,len(audio))/sfreq\n",
    "# plot the frequency\n",
    "plt.plot(time, audio)\n",
    "plt.xlabel(\"Time\")\n",
    "plt.ylabel(\"Frequency of Audio File\")\n",
    "plt.title(\"Change in Frequency with Time of First Audio\")\n",
    "plt.savefig(\"first.png\", dpi=300)\n",
    "plt.show()"
   ]
  },
  {
   "cell_type": "code",
   "execution_count": 163,
   "metadata": {},
   "outputs": [
    {
     "name": "stdout",
     "output_type": "stream",
     "text": [
      "-0.13108155\n"
     ]
    }
   ],
   "source": [
    "print(audio.min())"
   ]
  },
  {
   "cell_type": "code",
   "execution_count": 164,
   "metadata": {},
   "outputs": [],
   "source": [
    "data_df[['sfreq','min','mean','max']]=\"\""
   ]
  },
  {
   "cell_type": "code",
   "execution_count": 165,
   "metadata": {},
   "outputs": [],
   "source": [
    "for i in range(len(audio_files)):\n",
    "    audio, sfreq =lr.load(audio_files[i])\n",
    "    data_df.loc[data_df['fname']==audio_files[i].replace('\\\\','/'), 'sfreq']=sfreq\n",
    "    data_df.loc[data_df['fname']==audio_files[i].replace('\\\\','/'), 'min']=audio.min()\n",
    "    data_df.loc[data_df['fname']==audio_files[i].replace('\\\\','/'), 'mean']=audio.mean()\n",
    "    data_df.loc[data_df['fname']==audio_files[i].replace('\\\\','/'), 'max']=audio.max()"
   ]
  },
  {
   "cell_type": "code",
   "execution_count": 166,
   "metadata": {},
   "outputs": [
    {
     "data": {
      "text/plain": [
       "124"
      ]
     },
     "execution_count": 166,
     "metadata": {},
     "output_type": "execute_result"
    }
   ],
   "source": [
    "len(audio_files)"
   ]
  },
  {
   "cell_type": "markdown",
   "metadata": {},
   "source": [
    "## Need to change the label to numeric value so that classification can be done"
   ]
  },
  {
   "cell_type": "code",
   "execution_count": 167,
   "metadata": {},
   "outputs": [],
   "source": [
    "data_df['class']=\"\"\n",
    "data_df.loc[data_df.label=='normal', 'class']=0\n",
    "data_df.loc[data_df.label!='normal','class']=1"
   ]
  },
  {
   "cell_type": "code",
   "execution_count": 168,
   "metadata": {},
   "outputs": [
    {
     "data": {
      "text/html": [
       "<div>\n",
       "<style scoped>\n",
       "    .dataframe tbody tr th:only-of-type {\n",
       "        vertical-align: middle;\n",
       "    }\n",
       "\n",
       "    .dataframe tbody tr th {\n",
       "        vertical-align: top;\n",
       "    }\n",
       "\n",
       "    .dataframe thead th {\n",
       "        text-align: right;\n",
       "    }\n",
       "</style>\n",
       "<table border=\"1\" class=\"dataframe\">\n",
       "  <thead>\n",
       "    <tr style=\"text-align: right;\">\n",
       "      <th></th>\n",
       "      <th>dataset</th>\n",
       "      <th>fname</th>\n",
       "      <th>label</th>\n",
       "      <th>sfreq</th>\n",
       "      <th>min</th>\n",
       "      <th>mean</th>\n",
       "      <th>max</th>\n",
       "      <th>class</th>\n",
       "    </tr>\n",
       "  </thead>\n",
       "  <tbody>\n",
       "    <tr>\n",
       "      <th>0</th>\n",
       "      <td>a</td>\n",
       "      <td>set_a/artifact__201012172012.wav</td>\n",
       "      <td>artifact</td>\n",
       "      <td>22050</td>\n",
       "      <td>-0.730766</td>\n",
       "      <td>-1.04662e-05</td>\n",
       "      <td>0.712701</td>\n",
       "      <td>1</td>\n",
       "    </tr>\n",
       "    <tr>\n",
       "      <th>1</th>\n",
       "      <td>a</td>\n",
       "      <td>set_a/artifact__201105040918.wav</td>\n",
       "      <td>artifact</td>\n",
       "      <td>22050</td>\n",
       "      <td>-0.0173211</td>\n",
       "      <td>-1.10528e-06</td>\n",
       "      <td>0.0158929</td>\n",
       "      <td>1</td>\n",
       "    </tr>\n",
       "    <tr>\n",
       "      <th>2</th>\n",
       "      <td>a</td>\n",
       "      <td>set_a/artifact__201105041959.wav</td>\n",
       "      <td>artifact</td>\n",
       "      <td>22050</td>\n",
       "      <td>-0.0204537</td>\n",
       "      <td>4.74498e-07</td>\n",
       "      <td>0.0195355</td>\n",
       "      <td>1</td>\n",
       "    </tr>\n",
       "    <tr>\n",
       "      <th>3</th>\n",
       "      <td>a</td>\n",
       "      <td>set_a/artifact__201105051017.wav</td>\n",
       "      <td>artifact</td>\n",
       "      <td>22050</td>\n",
       "      <td>-0.920064</td>\n",
       "      <td>-1.36942e-05</td>\n",
       "      <td>0.762148</td>\n",
       "      <td>1</td>\n",
       "    </tr>\n",
       "    <tr>\n",
       "      <th>4</th>\n",
       "      <td>a</td>\n",
       "      <td>set_a/artifact__201105060108.wav</td>\n",
       "      <td>artifact</td>\n",
       "      <td>22050</td>\n",
       "      <td>-0.905326</td>\n",
       "      <td>-2.86369e-05</td>\n",
       "      <td>0.924389</td>\n",
       "      <td>1</td>\n",
       "    </tr>\n",
       "  </tbody>\n",
       "</table>\n",
       "</div>"
      ],
      "text/plain": [
       "  dataset                             fname     label  sfreq        min  \\\n",
       "0       a  set_a/artifact__201012172012.wav  artifact  22050  -0.730766   \n",
       "1       a  set_a/artifact__201105040918.wav  artifact  22050 -0.0173211   \n",
       "2       a  set_a/artifact__201105041959.wav  artifact  22050 -0.0204537   \n",
       "3       a  set_a/artifact__201105051017.wav  artifact  22050  -0.920064   \n",
       "4       a  set_a/artifact__201105060108.wav  artifact  22050  -0.905326   \n",
       "\n",
       "          mean        max class  \n",
       "0 -1.04662e-05   0.712701     1  \n",
       "1 -1.10528e-06  0.0158929     1  \n",
       "2  4.74498e-07  0.0195355     1  \n",
       "3 -1.36942e-05   0.762148     1  \n",
       "4 -2.86369e-05   0.924389     1  "
      ]
     },
     "execution_count": 168,
     "metadata": {},
     "output_type": "execute_result"
    }
   ],
   "source": [
    "data_df.head()"
   ]
  },
  {
   "cell_type": "markdown",
   "metadata": {},
   "source": [
    "## Let's see how a simple machine learning algorithm works on this dataset"
   ]
  },
  {
   "cell_type": "code",
   "execution_count": 169,
   "metadata": {},
   "outputs": [
    {
     "data": {
      "text/plain": [
       "'The testing accuracy is 0.7368421052631579'"
      ]
     },
     "metadata": {},
     "output_type": "display_data"
    },
    {
     "data": {
      "text/plain": [
       "'The training accuracy is 0.7558139534883721'"
      ]
     },
     "metadata": {},
     "output_type": "display_data"
    }
   ],
   "source": [
    "from sklearn.svm import LinearSVC\n",
    "from sklearn.model_selection import train_test_split\n",
    "from sklearn.metrics import accuracy_score\n",
    "model=LinearSVC()\n",
    "#extract the features and label in seperate sheet\n",
    "X=data_df[['min','mean','max']].values\n",
    "y=data_df['class'].values.astype(int)\n",
    "#Split the dataset\n",
    "X_train, X_test, y_train, y_test=train_test_split(X,y,test_size=0.3, stratify=y, random_state=111)\n",
    "model.fit(X_train,y_train)\n",
    "predictions=model.predict(X_test)\n",
    "display('The testing accuracy is {}'.format(accuracy_score(y_test, predictions)))\n",
    "predictions=model.predict(X_train)\n",
    "display('The training accuracy is {}'.format(accuracy_score(y_train, predictions)))\n"
   ]
  },
  {
   "cell_type": "markdown",
   "metadata": {},
   "source": [
    "## This is simple feature engineering for sound waveform. Now lets create an envolpe for the waveform"
   ]
  },
  {
   "cell_type": "code",
   "execution_count": 170,
   "metadata": {},
   "outputs": [
    {
     "data": {
      "image/png": "[encoded data removed]",
      "text/plain": [
       "<Figure size 432x288 with 1 Axes>"
      ]
     },
     "metadata": {
      "needs_background": "light"
     },
     "output_type": "display_data"
    }
   ],
   "source": [
    "audio, sfreq=lr.load(audio_files[50])\n",
    "time=np.arange(0,len(audio))/sfreq\n",
    "plt.plot(time, audio)\n",
    "plt.xlabel(\"Time\")\n",
    "plt.ylabel(\"Frequency of Audio File\")\n",
    "plt.title(\"Change in Frequency with Time of First Audio\")\n",
    "plt.savefig(\"2.png\", dpi=300)\n",
    "plt.show()"
   ]
  },
  {
   "cell_type": "code",
   "execution_count": 171,
   "metadata": {},
   "outputs": [
    {
     "data": {
      "image/png": "[encoded data removed]",
      "text/plain": [
       "<Figure size 432x288 with 1 Axes>"
      ]
     },
     "metadata": {
      "needs_background": "light"
     },
     "output_type": "display_data"
    }
   ],
   "source": [
    "#recitified the -ve values in audio\n",
    "audio_rect=np.abs(audio)\n",
    "#plot the graph for rectified\n",
    "plt.plot(time, audio_rect)\n",
    "plt.xlabel(\"Time\")\n",
    "plt.ylabel(\"Frequency of Audio File\")\n",
    "plt.title(\"Change in Frequency with Time of First Audio\")\n",
    "plt.savefig(\"3.png\", dpi=300)\n",
    "plt.show()"
   ]
  },
  {
   "cell_type": "code",
   "execution_count": 172,
   "metadata": {},
   "outputs": [
    {
     "name": "stdout",
     "output_type": "stream",
     "text": [
      "<class 'numpy.ndarray'>\n"
     ]
    }
   ],
   "source": [
    "print(type(audio))"
   ]
  },
  {
   "cell_type": "code",
   "execution_count": 173,
   "metadata": {},
   "outputs": [
    {
     "data": {
      "image/png": "[encoded data removed]",
      "text/plain": [
       "<Figure size 432x288 with 1 Axes>"
      ]
     },
     "metadata": {
      "needs_background": "light"
     },
     "output_type": "display_data"
    }
   ],
   "source": [
    "#Now create envolpe using rolling window\n",
    "audio_env=pd.DataFrame(audio_rect)\n",
    "audio_env=audio_env.rolling(3000).mean()\n",
    "audio_env=audio_env.to_numpy()\n",
    "#plot the graph for smooth audio\n",
    "plt.plot(time, audio_env)\n",
    "plt.xlabel(\"Time\")\n",
    "plt.ylabel(\"Frequency of Audio File\")\n",
    "plt.title(\"Change in Frequency with Time of First Audio\")\n",
    "plt.savefig(\"4.png\", dpi=300)\n",
    "plt.show()"
   ]
  },
  {
   "cell_type": "code",
   "execution_count": 180,
   "metadata": {},
   "outputs": [
    {
     "data": {
      "text/html": [
       "<div>\n",
       "<style scoped>\n",
       "    .dataframe tbody tr th:only-of-type {\n",
       "        vertical-align: middle;\n",
       "    }\n",
       "\n",
       "    .dataframe tbody tr th {\n",
       "        vertical-align: top;\n",
       "    }\n",
       "\n",
       "    .dataframe thead th {\n",
       "        text-align: right;\n",
       "    }\n",
       "</style>\n",
       "<table border=\"1\" class=\"dataframe\">\n",
       "  <thead>\n",
       "    <tr style=\"text-align: right;\">\n",
       "      <th></th>\n",
       "      <th>0</th>\n",
       "      <th>1</th>\n",
       "      <th>2</th>\n",
       "      <th>3</th>\n",
       "      <th>4</th>\n",
       "      <th>5</th>\n",
       "      <th>6</th>\n",
       "      <th>7</th>\n",
       "      <th>8</th>\n",
       "      <th>9</th>\n",
       "      <th>...</th>\n",
       "      <th>198440</th>\n",
       "      <th>198441</th>\n",
       "      <th>198442</th>\n",
       "      <th>198443</th>\n",
       "      <th>198444</th>\n",
       "      <th>198445</th>\n",
       "      <th>198446</th>\n",
       "      <th>198447</th>\n",
       "      <th>198448</th>\n",
       "      <th>198449</th>\n",
       "    </tr>\n",
       "  </thead>\n",
       "  <tbody>\n",
       "    <tr>\n",
       "      <th>set_a\\artifact__201012172012.wav</th>\n",
       "      <td>0.000023</td>\n",
       "      <td>-0.000130</td>\n",
       "      <td>-0.000181</td>\n",
       "      <td>-0.000167</td>\n",
       "      <td>-0.000047</td>\n",
       "      <td>0.000095</td>\n",
       "      <td>0.000099</td>\n",
       "      <td>-0.000018</td>\n",
       "      <td>-1.737173e-04</td>\n",
       "      <td>-0.000190</td>\n",
       "      <td>...</td>\n",
       "      <td>-0.000111</td>\n",
       "      <td>-0.000219</td>\n",
       "      <td>-0.000022</td>\n",
       "      <td>0.000048</td>\n",
       "      <td>0.000012</td>\n",
       "      <td>0.000244</td>\n",
       "      <td>0.000144</td>\n",
       "      <td>-0.000116</td>\n",
       "      <td>-0.000029</td>\n",
       "      <td>0.000029</td>\n",
       "    </tr>\n",
       "    <tr>\n",
       "      <th>set_a\\artifact__201105040918.wav</th>\n",
       "      <td>-0.000011</td>\n",
       "      <td>0.000001</td>\n",
       "      <td>0.000002</td>\n",
       "      <td>-0.000002</td>\n",
       "      <td>-0.000004</td>\n",
       "      <td>0.000003</td>\n",
       "      <td>-0.000008</td>\n",
       "      <td>0.000007</td>\n",
       "      <td>7.261384e-07</td>\n",
       "      <td>-0.000010</td>\n",
       "      <td>...</td>\n",
       "      <td>-0.000170</td>\n",
       "      <td>-0.000285</td>\n",
       "      <td>-0.000124</td>\n",
       "      <td>0.000101</td>\n",
       "      <td>0.000287</td>\n",
       "      <td>0.000411</td>\n",
       "      <td>0.000418</td>\n",
       "      <td>0.000145</td>\n",
       "      <td>-0.000062</td>\n",
       "      <td>-0.000168</td>\n",
       "    </tr>\n",
       "    <tr>\n",
       "      <th>set_a\\artifact__201105041959.wav</th>\n",
       "      <td>0.000037</td>\n",
       "      <td>-0.000166</td>\n",
       "      <td>-0.000074</td>\n",
       "      <td>-0.000033</td>\n",
       "      <td>0.000074</td>\n",
       "      <td>0.000153</td>\n",
       "      <td>0.000099</td>\n",
       "      <td>-0.000008</td>\n",
       "      <td>3.541701e-05</td>\n",
       "      <td>0.000035</td>\n",
       "      <td>...</td>\n",
       "      <td>-0.000041</td>\n",
       "      <td>0.000017</td>\n",
       "      <td>0.000081</td>\n",
       "      <td>-0.000151</td>\n",
       "      <td>-0.000108</td>\n",
       "      <td>0.000006</td>\n",
       "      <td>0.000154</td>\n",
       "      <td>0.000076</td>\n",
       "      <td>0.000034</td>\n",
       "      <td>0.000040</td>\n",
       "    </tr>\n",
       "    <tr>\n",
       "      <th>set_a\\artifact__201105051017.wav</th>\n",
       "      <td>-0.002743</td>\n",
       "      <td>-0.006650</td>\n",
       "      <td>-0.004978</td>\n",
       "      <td>-0.008188</td>\n",
       "      <td>-0.005176</td>\n",
       "      <td>0.001318</td>\n",
       "      <td>0.002499</td>\n",
       "      <td>0.005483</td>\n",
       "      <td>7.478257e-03</td>\n",
       "      <td>0.008449</td>\n",
       "      <td>...</td>\n",
       "      <td>-0.001398</td>\n",
       "      <td>-0.001402</td>\n",
       "      <td>-0.000984</td>\n",
       "      <td>0.001026</td>\n",
       "      <td>-0.000925</td>\n",
       "      <td>-0.005180</td>\n",
       "      <td>-0.008277</td>\n",
       "      <td>-0.007573</td>\n",
       "      <td>-0.004743</td>\n",
       "      <td>-0.002580</td>\n",
       "    </tr>\n",
       "    <tr>\n",
       "      <th>set_a\\artifact__201105060108.wav</th>\n",
       "      <td>0.000106</td>\n",
       "      <td>0.001500</td>\n",
       "      <td>0.009725</td>\n",
       "      <td>0.016769</td>\n",
       "      <td>0.019624</td>\n",
       "      <td>0.013949</td>\n",
       "      <td>0.011668</td>\n",
       "      <td>0.010955</td>\n",
       "      <td>1.147425e-02</td>\n",
       "      <td>0.011299</td>\n",
       "      <td>...</td>\n",
       "      <td>-0.005734</td>\n",
       "      <td>-0.000116</td>\n",
       "      <td>0.004989</td>\n",
       "      <td>0.011790</td>\n",
       "      <td>0.015782</td>\n",
       "      <td>0.016439</td>\n",
       "      <td>0.014134</td>\n",
       "      <td>0.011297</td>\n",
       "      <td>0.002116</td>\n",
       "      <td>-0.001515</td>\n",
       "    </tr>\n",
       "  </tbody>\n",
       "</table>\n",
       "<p>5 rows × 198450 columns</p>\n",
       "</div>"
      ],
      "text/plain": [
       "                                    0         1         2         3       \\\n",
       "set_a\\artifact__201012172012.wav  0.000023 -0.000130 -0.000181 -0.000167   \n",
       "set_a\\artifact__201105040918.wav -0.000011  0.000001  0.000002 -0.000002   \n",
       "set_a\\artifact__201105041959.wav  0.000037 -0.000166 -0.000074 -0.000033   \n",
       "set_a\\artifact__201105051017.wav -0.002743 -0.006650 -0.004978 -0.008188   \n",
       "set_a\\artifact__201105060108.wav  0.000106  0.001500  0.009725  0.016769   \n",
       "\n",
       "                                    4         5         6         7       \\\n",
       "set_a\\artifact__201012172012.wav -0.000047  0.000095  0.000099 -0.000018   \n",
       "set_a\\artifact__201105040918.wav -0.000004  0.000003 -0.000008  0.000007   \n",
       "set_a\\artifact__201105041959.wav  0.000074  0.000153  0.000099 -0.000008   \n",
       "set_a\\artifact__201105051017.wav -0.005176  0.001318  0.002499  0.005483   \n",
       "set_a\\artifact__201105060108.wav  0.019624  0.013949  0.011668  0.010955   \n",
       "\n",
       "                                        8         9       ...    198440  \\\n",
       "set_a\\artifact__201012172012.wav -1.737173e-04 -0.000190  ... -0.000111   \n",
       "set_a\\artifact__201105040918.wav  7.261384e-07 -0.000010  ... -0.000170   \n",
       "set_a\\artifact__201105041959.wav  3.541701e-05  0.000035  ... -0.000041   \n",
       "set_a\\artifact__201105051017.wav  7.478257e-03  0.008449  ... -0.001398   \n",
       "set_a\\artifact__201105060108.wav  1.147425e-02  0.011299  ... -0.005734   \n",
       "\n",
       "                                    198441    198442    198443    198444  \\\n",
       "set_a\\artifact__201012172012.wav -0.000219 -0.000022  0.000048  0.000012   \n",
       "set_a\\artifact__201105040918.wav -0.000285 -0.000124  0.000101  0.000287   \n",
       "set_a\\artifact__201105041959.wav  0.000017  0.000081 -0.000151 -0.000108   \n",
       "set_a\\artifact__201105051017.wav -0.001402 -0.000984  0.001026 -0.000925   \n",
       "set_a\\artifact__201105060108.wav -0.000116  0.004989  0.011790  0.015782   \n",
       "\n",
       "                                    198445    198446    198447    198448  \\\n",
       "set_a\\artifact__201012172012.wav  0.000244  0.000144 -0.000116 -0.000029   \n",
       "set_a\\artifact__201105040918.wav  0.000411  0.000418  0.000145 -0.000062   \n",
       "set_a\\artifact__201105041959.wav  0.000006  0.000154  0.000076  0.000034   \n",
       "set_a\\artifact__201105051017.wav -0.005180 -0.008277 -0.007573 -0.004743   \n",
       "set_a\\artifact__201105060108.wav  0.016439  0.014134  0.011297  0.002116   \n",
       "\n",
       "                                    198449  \n",
       "set_a\\artifact__201012172012.wav  0.000029  \n",
       "set_a\\artifact__201105040918.wav -0.000168  \n",
       "set_a\\artifact__201105041959.wav  0.000040  \n",
       "set_a\\artifact__201105051017.wav -0.002580  \n",
       "set_a\\artifact__201105060108.wav -0.001515  \n",
       "\n",
       "[5 rows x 198450 columns]"
      ]
     },
     "execution_count": 180,
     "metadata": {},
     "output_type": "execute_result"
    }
   ],
   "source": [
    "files=[]\n",
    "names=[]\n",
    "for i in range(len(audio_files)):\n",
    "    audio, sfreq=lr.load(audio_files[i])\n",
    "    names.append(audio_files[i])\n",
    "    files.append(audio)\n",
    "audio_all=pd.DataFrame(files)\n",
    "audio_all.index=names\n",
    "audio_all.head()"
   ]
  },
  {
   "cell_type": "code",
   "execution_count": 181,
   "metadata": {},
   "outputs": [],
   "source": [
    "audio_all_rect=audio_all.apply(np.abs)\n",
    "audio_all_env=audio_all_rect.rolling(3000, axis=1).mean()"
   ]
  },
  {
   "cell_type": "code",
   "execution_count": 203,
   "metadata": {},
   "outputs": [],
   "source": [
    "temp=audio_all_env.mean(axis=1)"
   ]
  },
  {
   "cell_type": "code",
   "execution_count": 204,
   "metadata": {},
   "outputs": [
    {
     "name": "stdout",
     "output_type": "stream",
     "text": [
      "set_a\\artifact__201012172012.wav    0.001324\n",
      "set_a\\artifact__201105040918.wav    0.000299\n",
      "set_a\\artifact__201105041959.wav    0.000485\n",
      "set_a\\artifact__201105051017.wav    0.010100\n",
      "set_a\\artifact__201105060108.wav    0.012662\n",
      "                                      ...   \n",
      "set_a\\normal__201106221450.wav      0.016419\n",
      "set_a\\normal__201108011112.wav      0.028383\n",
      "set_a\\normal__201108011114.wav      0.020292\n",
      "set_a\\normal__201108011115.wav      0.024787\n",
      "set_a\\normal__201108011118.wav      0.038700\n",
      "Length: 124, dtype: float64\n"
     ]
    }
   ],
   "source": [
    "print(temp)"
   ]
  },
  {
   "cell_type": "markdown",
   "metadata": {},
   "source": [
    "## Add these values of envolpe into the main dataset we have created"
   ]
  },
  {
   "cell_type": "code",
   "execution_count": 205,
   "metadata": {},
   "outputs": [
    {
     "data": {
      "text/html": [
       "<div>\n",
       "<style scoped>\n",
       "    .dataframe tbody tr th:only-of-type {\n",
       "        vertical-align: middle;\n",
       "    }\n",
       "\n",
       "    .dataframe tbody tr th {\n",
       "        vertical-align: top;\n",
       "    }\n",
       "\n",
       "    .dataframe thead th {\n",
       "        text-align: right;\n",
       "    }\n",
       "</style>\n",
       "<table border=\"1\" class=\"dataframe\">\n",
       "  <thead>\n",
       "    <tr style=\"text-align: right;\">\n",
       "      <th></th>\n",
       "      <th>dataset</th>\n",
       "      <th>fname</th>\n",
       "      <th>label</th>\n",
       "      <th>sfreq</th>\n",
       "      <th>min</th>\n",
       "      <th>mean</th>\n",
       "      <th>max</th>\n",
       "      <th>class</th>\n",
       "      <th>env_mean</th>\n",
       "      <th>env_std</th>\n",
       "      <th>env_max</th>\n",
       "    </tr>\n",
       "  </thead>\n",
       "  <tbody>\n",
       "    <tr>\n",
       "      <th>0</th>\n",
       "      <td>a</td>\n",
       "      <td>set_a/artifact__201012172012.wav</td>\n",
       "      <td>artifact</td>\n",
       "      <td>22050</td>\n",
       "      <td>-0.730766</td>\n",
       "      <td>-1.04662e-05</td>\n",
       "      <td>0.712701</td>\n",
       "      <td>1</td>\n",
       "      <td></td>\n",
       "      <td></td>\n",
       "      <td></td>\n",
       "    </tr>\n",
       "    <tr>\n",
       "      <th>1</th>\n",
       "      <td>a</td>\n",
       "      <td>set_a/artifact__201105040918.wav</td>\n",
       "      <td>artifact</td>\n",
       "      <td>22050</td>\n",
       "      <td>-0.0173211</td>\n",
       "      <td>-1.10528e-06</td>\n",
       "      <td>0.0158929</td>\n",
       "      <td>1</td>\n",
       "      <td></td>\n",
       "      <td></td>\n",
       "      <td></td>\n",
       "    </tr>\n",
       "    <tr>\n",
       "      <th>2</th>\n",
       "      <td>a</td>\n",
       "      <td>set_a/artifact__201105041959.wav</td>\n",
       "      <td>artifact</td>\n",
       "      <td>22050</td>\n",
       "      <td>-0.0204537</td>\n",
       "      <td>4.74498e-07</td>\n",
       "      <td>0.0195355</td>\n",
       "      <td>1</td>\n",
       "      <td></td>\n",
       "      <td></td>\n",
       "      <td></td>\n",
       "    </tr>\n",
       "    <tr>\n",
       "      <th>3</th>\n",
       "      <td>a</td>\n",
       "      <td>set_a/artifact__201105051017.wav</td>\n",
       "      <td>artifact</td>\n",
       "      <td>22050</td>\n",
       "      <td>-0.920064</td>\n",
       "      <td>-1.36942e-05</td>\n",
       "      <td>0.762148</td>\n",
       "      <td>1</td>\n",
       "      <td></td>\n",
       "      <td></td>\n",
       "      <td></td>\n",
       "    </tr>\n",
       "    <tr>\n",
       "      <th>4</th>\n",
       "      <td>a</td>\n",
       "      <td>set_a/artifact__201105060108.wav</td>\n",
       "      <td>artifact</td>\n",
       "      <td>22050</td>\n",
       "      <td>-0.905326</td>\n",
       "      <td>-2.86369e-05</td>\n",
       "      <td>0.924389</td>\n",
       "      <td>1</td>\n",
       "      <td></td>\n",
       "      <td></td>\n",
       "      <td></td>\n",
       "    </tr>\n",
       "  </tbody>\n",
       "</table>\n",
       "</div>"
      ],
      "text/plain": [
       "  dataset                             fname     label  sfreq        min  \\\n",
       "0       a  set_a/artifact__201012172012.wav  artifact  22050  -0.730766   \n",
       "1       a  set_a/artifact__201105040918.wav  artifact  22050 -0.0173211   \n",
       "2       a  set_a/artifact__201105041959.wav  artifact  22050 -0.0204537   \n",
       "3       a  set_a/artifact__201105051017.wav  artifact  22050  -0.920064   \n",
       "4       a  set_a/artifact__201105060108.wav  artifact  22050  -0.905326   \n",
       "\n",
       "          mean        max class env_mean env_std env_max  \n",
       "0 -1.04662e-05   0.712701     1                           \n",
       "1 -1.10528e-06  0.0158929     1                           \n",
       "2  4.74498e-07  0.0195355     1                           \n",
       "3 -1.36942e-05   0.762148     1                           \n",
       "4 -2.86369e-05   0.924389     1                           "
      ]
     },
     "execution_count": 205,
     "metadata": {},
     "output_type": "execute_result"
    }
   ],
   "source": [
    "data_df[['env_mean','env_std','env_max']]=\"\"\n",
    "data_df.loc[data_df['fname']==audio_all_env.index, 'env_mean']=temp\n",
    "#data_df.loc[data_df['fname']==audio_all_env.index, 'env_std']=audio_all_env.std(axis=1)\n",
    "#data_df.loc[data_df['fname']==audio_all_env.index, 'env_max']=audio_all_env.max(axis=1)\n",
    "data_df.head()"
   ]
  },
  {
   "cell_type": "code",
   "execution_count": null,
   "metadata": {},
   "outputs": [],
   "source": []
  },
  {
   "cell_type": "code",
   "execution_count": null,
   "metadata": {},
   "outputs": [],
   "source": []
  }
 ],
 "metadata": {
  "interpreter": {
   "hash": "b3ba2566441a7c06988d0923437866b63cedc61552a5af99d1f4fb67d367b25f"
  },
  "kernelspec": {
   "display_name": "Python 3.8.5 64-bit ('base': conda)",
   "name": "python3"
  },
  "language_info": {
   "codemirror_mode": {
    "name": "ipython",
    "version": 3
   },
   "file_extension": ".py",
   "mimetype": "text/x-python",
   "name": "python",
   "nbconvert_exporter": "python",
   "pygments_lexer": "ipython3",
   "version": "3.8.5"
  },
  "orig_nbformat": 4
 },
 "nbformat": 4,
 "nbformat_minor": 2
}
