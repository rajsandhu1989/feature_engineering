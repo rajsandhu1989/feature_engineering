{
 "cells": [
  {
   "cell_type": "code",
   "execution_count": 1,
   "metadata": {},
   "outputs": [],
   "source": [
    "import pandas as pd\n",
    "import numpy as np\n",
    "import matplotlib.pyplot as plt"
   ]
  },
  {
   "cell_type": "markdown",
   "metadata": {},
   "source": [
    "## Import packages we will use for importing and extracting information fromsound files"
   ]
  },
  {
   "cell_type": "code",
   "execution_count": 2,
   "metadata": {},
   "outputs": [],
   "source": [
    "import librosa as lr\n",
    "from glob import glob"
   ]
  },
  {
   "cell_type": "code",
   "execution_count": 3,
   "metadata": {},
   "outputs": [
    {
     "data": {
      "text/html": [
       "<div>\n",
       "<style scoped>\n",
       "    .dataframe tbody tr th:only-of-type {\n",
       "        vertical-align: middle;\n",
       "    }\n",
       "\n",
       "    .dataframe tbody tr th {\n",
       "        vertical-align: top;\n",
       "    }\n",
       "\n",
       "    .dataframe thead th {\n",
       "        text-align: right;\n",
       "    }\n",
       "</style>\n",
       "<table border=\"1\" class=\"dataframe\">\n",
       "  <thead>\n",
       "    <tr style=\"text-align: right;\">\n",
       "      <th></th>\n",
       "      <th>dataset</th>\n",
       "      <th>fname</th>\n",
       "      <th>label</th>\n",
       "      <th>sublabel</th>\n",
       "    </tr>\n",
       "  </thead>\n",
       "  <tbody>\n",
       "    <tr>\n",
       "      <th>0</th>\n",
       "      <td>a</td>\n",
       "      <td>set_a/artifact__201012172012.wav</td>\n",
       "      <td>artifact</td>\n",
       "      <td>NaN</td>\n",
       "    </tr>\n",
       "    <tr>\n",
       "      <th>1</th>\n",
       "      <td>a</td>\n",
       "      <td>set_a/artifact__201105040918.wav</td>\n",
       "      <td>artifact</td>\n",
       "      <td>NaN</td>\n",
       "    </tr>\n",
       "    <tr>\n",
       "      <th>2</th>\n",
       "      <td>a</td>\n",
       "      <td>set_a/artifact__201105041959.wav</td>\n",
       "      <td>artifact</td>\n",
       "      <td>NaN</td>\n",
       "    </tr>\n",
       "    <tr>\n",
       "      <th>3</th>\n",
       "      <td>a</td>\n",
       "      <td>set_a/artifact__201105051017.wav</td>\n",
       "      <td>artifact</td>\n",
       "      <td>NaN</td>\n",
       "    </tr>\n",
       "    <tr>\n",
       "      <th>4</th>\n",
       "      <td>a</td>\n",
       "      <td>set_a/artifact__201105060108.wav</td>\n",
       "      <td>artifact</td>\n",
       "      <td>NaN</td>\n",
       "    </tr>\n",
       "  </tbody>\n",
       "</table>\n",
       "</div>"
      ],
      "text/plain": [
       "  dataset                             fname     label  sublabel\n",
       "0       a  set_a/artifact__201012172012.wav  artifact       NaN\n",
       "1       a  set_a/artifact__201105040918.wav  artifact       NaN\n",
       "2       a  set_a/artifact__201105041959.wav  artifact       NaN\n",
       "3       a  set_a/artifact__201105051017.wav  artifact       NaN\n",
       "4       a  set_a/artifact__201105060108.wav  artifact       NaN"
      ]
     },
     "execution_count": 3,
     "metadata": {},
     "output_type": "execute_result"
    }
   ],
   "source": [
    "#read the csv file which contains informatiion about the audio files\n",
    "data_df=pd.read_csv('set_a.csv')\n",
    "data_df.head()"
   ]
  },
  {
   "cell_type": "code",
   "execution_count": 4,
   "metadata": {},
   "outputs": [
    {
     "data": {
      "text/plain": [
       "dataset       0\n",
       "fname         0\n",
       "label        52\n",
       "sublabel    176\n",
       "dtype: int64"
      ]
     },
     "execution_count": 4,
     "metadata": {},
     "output_type": "execute_result"
    }
   ],
   "source": [
    "data_df.isna().sum()"
   ]
  },
  {
   "cell_type": "code",
   "execution_count": 5,
   "metadata": {},
   "outputs": [],
   "source": [
    "#we should also drop the column sublabel because it doesnot have any input\n",
    "data_df=data_df.drop(labels='sublabel', axis=1)\n",
    "# rows with missing value doesnot contain any important information, we should drop them\n",
    "data_df=data_df.dropna(axis=0)"
   ]
  },
  {
   "cell_type": "code",
   "execution_count": 6,
   "metadata": {},
   "outputs": [
    {
     "data": {
      "text/plain": [
       "dataset    0\n",
       "fname      0\n",
       "label      0\n",
       "dtype: int64"
      ]
     },
     "execution_count": 6,
     "metadata": {},
     "output_type": "execute_result"
    }
   ],
   "source": [
    "data_df.isna().sum()"
   ]
  },
  {
   "cell_type": "code",
   "execution_count": 7,
   "metadata": {},
   "outputs": [
    {
     "data": {
      "text/plain": [
       "(124, 3)"
      ]
     },
     "execution_count": 7,
     "metadata": {},
     "output_type": "execute_result"
    }
   ],
   "source": [
    "data_df.shape"
   ]
  },
  {
   "cell_type": "markdown",
   "metadata": {},
   "source": [
    "## Import Audio files into workspcae using the glob package"
   ]
  },
  {
   "cell_type": "code",
   "execution_count": 8,
   "metadata": {},
   "outputs": [],
   "source": [
    "audio_files=glob('set_a/*.wav')"
   ]
  },
  {
   "cell_type": "code",
   "execution_count": 9,
   "metadata": {},
   "outputs": [
    {
     "name": "stdout",
     "output_type": "stream",
     "text": [
      "22050\n"
     ]
    }
   ],
   "source": [
    "# Read the first audio file and plot it\n",
    "audio, sfreq= lr.load(audio_files[50])\n",
    "# The frequency of Audio file [0] is\n",
    "print(sfreq)"
   ]
  },
  {
   "cell_type": "code",
   "execution_count": 10,
   "metadata": {},
   "outputs": [
    {
     "name": "stdout",
     "output_type": "stream",
     "text": [
      "set_a\\artifact__201012172012.wav\n"
     ]
    }
   ],
   "source": [
    "print(audio_files[0])"
   ]
  },
  {
   "cell_type": "code",
   "execution_count": 11,
   "metadata": {},
   "outputs": [
    {
     "data": {
      "image/png": "[encoded data removed]",
      "text/plain": [
       "<Figure size 432x288 with 1 Axes>"
      ]
     },
     "metadata": {
      "needs_background": "light"
     },
     "output_type": "display_data"
    }
   ],
   "source": [
    "# Create the time range for plotting the frequency\n",
    "time=np.arange(0,len(audio))/sfreq\n",
    "# plot the frequency\n",
    "plt.plot(time, audio)\n",
    "plt.xlabel(\"Time\")\n",
    "plt.ylabel(\"Amplitude of Audio File\")\n",
    "plt.title(\"Change in Amplitude with Time of First Audio\")\n",
    "plt.savefig(\"first.png\", dpi=300)\n",
    "plt.show()"
   ]
  },
  {
   "cell_type": "code",
   "execution_count": 12,
   "metadata": {},
   "outputs": [
    {
     "name": "stdout",
     "output_type": "stream",
     "text": [
      "-0.13108155\n"
     ]
    }
   ],
   "source": [
    "print(audio.min())"
   ]
  },
  {
   "cell_type": "code",
   "execution_count": 13,
   "metadata": {},
   "outputs": [],
   "source": [
    "data_df[['sfreq','min','mean','max']]=\"\""
   ]
  },
  {
   "cell_type": "code",
   "execution_count": 14,
   "metadata": {},
   "outputs": [],
   "source": [
    "for i in range(len(audio_files)):\n",
    "    audio, sfreq =lr.load(audio_files[i])\n",
    "    data_df.loc[data_df['fname']==audio_files[i].replace('\\\\','/'), 'sfreq']=sfreq\n",
    "    data_df.loc[data_df['fname']==audio_files[i].replace('\\\\','/'), 'min']=audio.min()\n",
    "    data_df.loc[data_df['fname']==audio_files[i].replace('\\\\','/'), 'mean']=audio.mean()\n",
    "    data_df.loc[data_df['fname']==audio_files[i].replace('\\\\','/'), 'max']=audio.max()"
   ]
  },
  {
   "cell_type": "code",
   "execution_count": 15,
   "metadata": {},
   "outputs": [
    {
     "data": {
      "text/plain": [
       "124"
      ]
     },
     "execution_count": 15,
     "metadata": {},
     "output_type": "execute_result"
    }
   ],
   "source": [
    "len(audio_files)"
   ]
  },
  {
   "cell_type": "markdown",
   "metadata": {},
   "source": [
    "## Need to change the label to numeric value so that classification can be done"
   ]
  },
  {
   "cell_type": "code",
   "execution_count": 16,
   "metadata": {},
   "outputs": [],
   "source": [
    "data_df['class']=\"\"\n",
    "data_df.loc[data_df.label=='normal', 'class']=0\n",
    "data_df.loc[data_df.label!='normal','class']=1"
   ]
  },
  {
   "cell_type": "code",
   "execution_count": 17,
   "metadata": {},
   "outputs": [
    {
     "data": {
      "text/html": [
       "<div>\n",
       "<style scoped>\n",
       "    .dataframe tbody tr th:only-of-type {\n",
       "        vertical-align: middle;\n",
       "    }\n",
       "\n",
       "    .dataframe tbody tr th {\n",
       "        vertical-align: top;\n",
       "    }\n",
       "\n",
       "    .dataframe thead th {\n",
       "        text-align: right;\n",
       "    }\n",
       "</style>\n",
       "<table border=\"1\" class=\"dataframe\">\n",
       "  <thead>\n",
       "    <tr style=\"text-align: right;\">\n",
       "      <th></th>\n",
       "      <th>dataset</th>\n",
       "      <th>fname</th>\n",
       "      <th>label</th>\n",
       "      <th>sfreq</th>\n",
       "      <th>min</th>\n",
       "      <th>mean</th>\n",
       "      <th>max</th>\n",
       "      <th>class</th>\n",
       "    </tr>\n",
       "  </thead>\n",
       "  <tbody>\n",
       "    <tr>\n",
       "      <th>0</th>\n",
       "      <td>a</td>\n",
       "      <td>set_a/artifact__201012172012.wav</td>\n",
       "      <td>artifact</td>\n",
       "      <td>22050</td>\n",
       "      <td>-0.730766</td>\n",
       "      <td>-1.04662e-05</td>\n",
       "      <td>0.712701</td>\n",
       "      <td>1</td>\n",
       "    </tr>\n",
       "    <tr>\n",
       "      <th>1</th>\n",
       "      <td>a</td>\n",
       "      <td>set_a/artifact__201105040918.wav</td>\n",
       "      <td>artifact</td>\n",
       "      <td>22050</td>\n",
       "      <td>-0.0173211</td>\n",
       "      <td>-1.10528e-06</td>\n",
       "      <td>0.0158929</td>\n",
       "      <td>1</td>\n",
       "    </tr>\n",
       "    <tr>\n",
       "      <th>2</th>\n",
       "      <td>a</td>\n",
       "      <td>set_a/artifact__201105041959.wav</td>\n",
       "      <td>artifact</td>\n",
       "      <td>22050</td>\n",
       "      <td>-0.0204537</td>\n",
       "      <td>4.74498e-07</td>\n",
       "      <td>0.0195355</td>\n",
       "      <td>1</td>\n",
       "    </tr>\n",
       "    <tr>\n",
       "      <th>3</th>\n",
       "      <td>a</td>\n",
       "      <td>set_a/artifact__201105051017.wav</td>\n",
       "      <td>artifact</td>\n",
       "      <td>22050</td>\n",
       "      <td>-0.920064</td>\n",
       "      <td>-1.36942e-05</td>\n",
       "      <td>0.762148</td>\n",
       "      <td>1</td>\n",
       "    </tr>\n",
       "    <tr>\n",
       "      <th>4</th>\n",
       "      <td>a</td>\n",
       "      <td>set_a/artifact__201105060108.wav</td>\n",
       "      <td>artifact</td>\n",
       "      <td>22050</td>\n",
       "      <td>-0.905326</td>\n",
       "      <td>-2.86369e-05</td>\n",
       "      <td>0.924389</td>\n",
       "      <td>1</td>\n",
       "    </tr>\n",
       "  </tbody>\n",
       "</table>\n",
       "</div>"
      ],
      "text/plain": [
       "  dataset                             fname     label  sfreq        min  \\\n",
       "0       a  set_a/artifact__201012172012.wav  artifact  22050  -0.730766   \n",
       "1       a  set_a/artifact__201105040918.wav  artifact  22050 -0.0173211   \n",
       "2       a  set_a/artifact__201105041959.wav  artifact  22050 -0.0204537   \n",
       "3       a  set_a/artifact__201105051017.wav  artifact  22050  -0.920064   \n",
       "4       a  set_a/artifact__201105060108.wav  artifact  22050  -0.905326   \n",
       "\n",
       "          mean        max class  \n",
       "0 -1.04662e-05   0.712701     1  \n",
       "1 -1.10528e-06  0.0158929     1  \n",
       "2  4.74498e-07  0.0195355     1  \n",
       "3 -1.36942e-05   0.762148     1  \n",
       "4 -2.86369e-05   0.924389     1  "
      ]
     },
     "execution_count": 17,
     "metadata": {},
     "output_type": "execute_result"
    }
   ],
   "source": [
    "data_df.head()"
   ]
  },
  {
   "cell_type": "markdown",
   "metadata": {},
   "source": [
    "## Let's see how a simple machine learning algorithm works on this dataset"
   ]
  },
  {
   "cell_type": "code",
   "execution_count": 18,
   "metadata": {},
   "outputs": [
    {
     "data": {
      "text/plain": [
       "'The testing accuracy is 0.7368421052631579'"
      ]
     },
     "metadata": {},
     "output_type": "display_data"
    },
    {
     "data": {
      "text/plain": [
       "'The training accuracy is 0.7558139534883721'"
      ]
     },
     "metadata": {},
     "output_type": "display_data"
    }
   ],
   "source": [
    "from sklearn.svm import LinearSVC\n",
    "from sklearn.model_selection import train_test_split\n",
    "from sklearn.metrics import accuracy_score\n",
    "model=LinearSVC()\n",
    "#extract the features and label in seperate sheet\n",
    "X=data_df[['min','mean','max']].values\n",
    "y=data_df['class'].values.astype(int)\n",
    "#Split the dataset\n",
    "X_train, X_test, y_train, y_test=train_test_split(X,y,test_size=0.3, stratify=y, random_state=111)\n",
    "model.fit(X_train,y_train)\n",
    "predictions=model.predict(X_test)\n",
    "display('The testing accuracy is {}'.format(accuracy_score(y_test, predictions)))\n",
    "predictions=model.predict(X_train)\n",
    "display('The training accuracy is {}'.format(accuracy_score(y_train, predictions)))\n"
   ]
  },
  {
   "cell_type": "markdown",
   "metadata": {},
   "source": [
    "## This is simple feature engineering for sound waveform. Now lets create an envolpe for the waveform"
   ]
  },
  {
   "cell_type": "code",
   "execution_count": 19,
   "metadata": {},
   "outputs": [
    {
     "data": {
      "image/png": "[encoded data removed]",
      "text/plain": [
       "<Figure size 432x288 with 1 Axes>"
      ]
     },
     "metadata": {
      "needs_background": "light"
     },
     "output_type": "display_data"
    }
   ],
   "source": [
    "audio, sfreq=lr.load(audio_files[50])\n",
    "time=np.arange(0,len(audio))/sfreq\n",
    "plt.plot(time, audio)\n",
    "plt.xlabel(\"Time\")\n",
    "plt.ylabel(\"Frequency of Audio File\")\n",
    "plt.title(\"Change in Frequency with Time of First Audio\")\n",
    "plt.savefig(\"2.png\", dpi=300)\n",
    "plt.show()"
   ]
  },
  {
   "cell_type": "code",
   "execution_count": 20,
   "metadata": {},
   "outputs": [
    {
     "data": {
      "image/png": "[encoded data removed]",
      "text/plain": [
       "<Figure size 432x288 with 1 Axes>"
      ]
     },
     "metadata": {
      "needs_background": "light"
     },
     "output_type": "display_data"
    }
   ],
   "source": [
    "#recitified the -ve values in audio\n",
    "audio_rect=np.abs(audio)\n",
    "#plot the graph for rectified\n",
    "plt.plot(time, audio_rect)\n",
    "plt.xlabel(\"Time\")\n",
    "plt.ylabel(\"Frequency of Audio File\")\n",
    "plt.title(\"Change in Frequency with Time of First Audio\")\n",
    "plt.savefig(\"3.png\", dpi=300)\n",
    "plt.show()"
   ]
  },
  {
   "cell_type": "code",
   "execution_count": 21,
   "metadata": {},
   "outputs": [
    {
     "name": "stdout",
     "output_type": "stream",
     "text": [
      "<class 'numpy.ndarray'>\n"
     ]
    }
   ],
   "source": [
    "print(type(audio))"
   ]
  },
  {
   "cell_type": "code",
   "execution_count": 22,
   "metadata": {},
   "outputs": [
    {
     "data": {
      "image/png": "[encoded data removed]",
      "text/plain": [
       "<Figure size 432x288 with 1 Axes>"
      ]
     },
     "metadata": {
      "needs_background": "light"
     },
     "output_type": "display_data"
    }
   ],
   "source": [
    "#Now create envolpe using rolling window\n",
    "audio_env=pd.DataFrame(audio_rect)\n",
    "audio_env=audio_env.rolling(3000).mean()\n",
    "audio_env=audio_env.to_numpy()\n",
    "#plot the graph for smooth audio\n",
    "plt.plot(time, audio_env)\n",
    "plt.xlabel(\"Time\")\n",
    "plt.ylabel(\"Frequency of Audio File\")\n",
    "plt.title(\"Change in Frequency with Time of First Audio\")\n",
    "plt.savefig(\"4.png\", dpi=300)\n",
    "plt.show()"
   ]
  },
  {
   "cell_type": "code",
   "execution_count": 31,
   "metadata": {},
   "outputs": [
    {
     "data": {
      "text/html": [
       "<div>\n",
       "<style scoped>\n",
       "    .dataframe tbody tr th:only-of-type {\n",
       "        vertical-align: middle;\n",
       "    }\n",
       "\n",
       "    .dataframe tbody tr th {\n",
       "        vertical-align: top;\n",
       "    }\n",
       "\n",
       "    .dataframe thead th {\n",
       "        text-align: right;\n",
       "    }\n",
       "</style>\n",
       "<table border=\"1\" class=\"dataframe\">\n",
       "  <thead>\n",
       "    <tr style=\"text-align: right;\">\n",
       "      <th></th>\n",
       "      <th>0</th>\n",
       "      <th>1</th>\n",
       "      <th>2</th>\n",
       "      <th>3</th>\n",
       "      <th>4</th>\n",
       "      <th>5</th>\n",
       "      <th>6</th>\n",
       "      <th>7</th>\n",
       "      <th>8</th>\n",
       "      <th>9</th>\n",
       "      <th>...</th>\n",
       "      <th>198441</th>\n",
       "      <th>198442</th>\n",
       "      <th>198443</th>\n",
       "      <th>198444</th>\n",
       "      <th>198445</th>\n",
       "      <th>198446</th>\n",
       "      <th>198447</th>\n",
       "      <th>198448</th>\n",
       "      <th>198449</th>\n",
       "      <th>fname</th>\n",
       "    </tr>\n",
       "  </thead>\n",
       "  <tbody>\n",
       "    <tr>\n",
       "      <th>0</th>\n",
       "      <td>0.000023</td>\n",
       "      <td>-0.000130</td>\n",
       "      <td>-0.000181</td>\n",
       "      <td>-0.000167</td>\n",
       "      <td>-0.000047</td>\n",
       "      <td>0.000095</td>\n",
       "      <td>0.000099</td>\n",
       "      <td>-0.000018</td>\n",
       "      <td>-1.737173e-04</td>\n",
       "      <td>-0.000190</td>\n",
       "      <td>...</td>\n",
       "      <td>-0.000219</td>\n",
       "      <td>-0.000022</td>\n",
       "      <td>0.000048</td>\n",
       "      <td>0.000012</td>\n",
       "      <td>0.000244</td>\n",
       "      <td>0.000144</td>\n",
       "      <td>-0.000116</td>\n",
       "      <td>-0.000029</td>\n",
       "      <td>0.000029</td>\n",
       "      <td>set_a\\artifact__201012172012.wav</td>\n",
       "    </tr>\n",
       "    <tr>\n",
       "      <th>1</th>\n",
       "      <td>-0.000011</td>\n",
       "      <td>0.000001</td>\n",
       "      <td>0.000002</td>\n",
       "      <td>-0.000002</td>\n",
       "      <td>-0.000004</td>\n",
       "      <td>0.000003</td>\n",
       "      <td>-0.000008</td>\n",
       "      <td>0.000007</td>\n",
       "      <td>7.261384e-07</td>\n",
       "      <td>-0.000010</td>\n",
       "      <td>...</td>\n",
       "      <td>-0.000285</td>\n",
       "      <td>-0.000124</td>\n",
       "      <td>0.000101</td>\n",
       "      <td>0.000287</td>\n",
       "      <td>0.000411</td>\n",
       "      <td>0.000418</td>\n",
       "      <td>0.000145</td>\n",
       "      <td>-0.000062</td>\n",
       "      <td>-0.000168</td>\n",
       "      <td>set_a\\artifact__201105040918.wav</td>\n",
       "    </tr>\n",
       "    <tr>\n",
       "      <th>2</th>\n",
       "      <td>0.000037</td>\n",
       "      <td>-0.000166</td>\n",
       "      <td>-0.000074</td>\n",
       "      <td>-0.000033</td>\n",
       "      <td>0.000074</td>\n",
       "      <td>0.000153</td>\n",
       "      <td>0.000099</td>\n",
       "      <td>-0.000008</td>\n",
       "      <td>3.541701e-05</td>\n",
       "      <td>0.000035</td>\n",
       "      <td>...</td>\n",
       "      <td>0.000017</td>\n",
       "      <td>0.000081</td>\n",
       "      <td>-0.000151</td>\n",
       "      <td>-0.000108</td>\n",
       "      <td>0.000006</td>\n",
       "      <td>0.000154</td>\n",
       "      <td>0.000076</td>\n",
       "      <td>0.000034</td>\n",
       "      <td>0.000040</td>\n",
       "      <td>set_a\\artifact__201105041959.wav</td>\n",
       "    </tr>\n",
       "    <tr>\n",
       "      <th>3</th>\n",
       "      <td>-0.002743</td>\n",
       "      <td>-0.006650</td>\n",
       "      <td>-0.004978</td>\n",
       "      <td>-0.008188</td>\n",
       "      <td>-0.005176</td>\n",
       "      <td>0.001318</td>\n",
       "      <td>0.002499</td>\n",
       "      <td>0.005483</td>\n",
       "      <td>7.478257e-03</td>\n",
       "      <td>0.008449</td>\n",
       "      <td>...</td>\n",
       "      <td>-0.001402</td>\n",
       "      <td>-0.000984</td>\n",
       "      <td>0.001026</td>\n",
       "      <td>-0.000925</td>\n",
       "      <td>-0.005180</td>\n",
       "      <td>-0.008277</td>\n",
       "      <td>-0.007573</td>\n",
       "      <td>-0.004743</td>\n",
       "      <td>-0.002580</td>\n",
       "      <td>set_a\\artifact__201105051017.wav</td>\n",
       "    </tr>\n",
       "    <tr>\n",
       "      <th>4</th>\n",
       "      <td>0.000106</td>\n",
       "      <td>0.001500</td>\n",
       "      <td>0.009725</td>\n",
       "      <td>0.016769</td>\n",
       "      <td>0.019624</td>\n",
       "      <td>0.013949</td>\n",
       "      <td>0.011668</td>\n",
       "      <td>0.010955</td>\n",
       "      <td>1.147425e-02</td>\n",
       "      <td>0.011299</td>\n",
       "      <td>...</td>\n",
       "      <td>-0.000116</td>\n",
       "      <td>0.004989</td>\n",
       "      <td>0.011790</td>\n",
       "      <td>0.015782</td>\n",
       "      <td>0.016439</td>\n",
       "      <td>0.014134</td>\n",
       "      <td>0.011297</td>\n",
       "      <td>0.002116</td>\n",
       "      <td>-0.001515</td>\n",
       "      <td>set_a\\artifact__201105060108.wav</td>\n",
       "    </tr>\n",
       "  </tbody>\n",
       "</table>\n",
       "<p>5 rows × 198451 columns</p>\n",
       "</div>"
      ],
      "text/plain": [
       "          0         1         2         3         4         5         6  \\\n",
       "0  0.000023 -0.000130 -0.000181 -0.000167 -0.000047  0.000095  0.000099   \n",
       "1 -0.000011  0.000001  0.000002 -0.000002 -0.000004  0.000003 -0.000008   \n",
       "2  0.000037 -0.000166 -0.000074 -0.000033  0.000074  0.000153  0.000099   \n",
       "3 -0.002743 -0.006650 -0.004978 -0.008188 -0.005176  0.001318  0.002499   \n",
       "4  0.000106  0.001500  0.009725  0.016769  0.019624  0.013949  0.011668   \n",
       "\n",
       "          7             8         9  ...    198441    198442    198443  \\\n",
       "0 -0.000018 -1.737173e-04 -0.000190  ... -0.000219 -0.000022  0.000048   \n",
       "1  0.000007  7.261384e-07 -0.000010  ... -0.000285 -0.000124  0.000101   \n",
       "2 -0.000008  3.541701e-05  0.000035  ...  0.000017  0.000081 -0.000151   \n",
       "3  0.005483  7.478257e-03  0.008449  ... -0.001402 -0.000984  0.001026   \n",
       "4  0.010955  1.147425e-02  0.011299  ... -0.000116  0.004989  0.011790   \n",
       "\n",
       "     198444    198445    198446    198447    198448    198449  \\\n",
       "0  0.000012  0.000244  0.000144 -0.000116 -0.000029  0.000029   \n",
       "1  0.000287  0.000411  0.000418  0.000145 -0.000062 -0.000168   \n",
       "2 -0.000108  0.000006  0.000154  0.000076  0.000034  0.000040   \n",
       "3 -0.000925 -0.005180 -0.008277 -0.007573 -0.004743 -0.002580   \n",
       "4  0.015782  0.016439  0.014134  0.011297  0.002116 -0.001515   \n",
       "\n",
       "                              fname  \n",
       "0  set_a\\artifact__201012172012.wav  \n",
       "1  set_a\\artifact__201105040918.wav  \n",
       "2  set_a\\artifact__201105041959.wav  \n",
       "3  set_a\\artifact__201105051017.wav  \n",
       "4  set_a\\artifact__201105060108.wav  \n",
       "\n",
       "[5 rows x 198451 columns]"
      ]
     },
     "execution_count": 31,
     "metadata": {},
     "output_type": "execute_result"
    }
   ],
   "source": [
    "files=[]\n",
    "names=[]\n",
    "for i in range(len(audio_files)):\n",
    "    audio, sfreq=lr.load(audio_files[i])\n",
    "    names.append(audio_files[i])\n",
    "    files.append(audio)\n",
    "audio_all=pd.DataFrame(files)\n",
    "audio_all['fname']=names\n",
    "audio_all.head()"
   ]
  },
  {
   "cell_type": "code",
   "execution_count": 35,
   "metadata": {},
   "outputs": [],
   "source": [
    "audio_all.drop(columns='fname', axis=1, inplace=True)\n",
    "audio_all_rect=audio_all.apply(np.abs)\n",
    "audio_all_env=audio_all_rect.rolling(3000, axis=1).mean()"
   ]
  },
  {
   "cell_type": "code",
   "execution_count": 36,
   "metadata": {},
   "outputs": [],
   "source": [
    "audio_all_env['env_mean']= audio_all_env.mean(axis=1)\n",
    "audio_all_env['env_std']=audio_all_env.std(axis=1)\n",
    "audio_all_env['env_max']=audio_all_env.max(axis=1)\n",
    "audio_all_env['fname']=names"
   ]
  },
  {
   "cell_type": "code",
   "execution_count": 37,
   "metadata": {},
   "outputs": [
    {
     "name": "stdout",
     "output_type": "stream",
     "text": [
      "     env_mean   env_std   env_max                             fname\n",
      "0    0.001324  0.005395  0.043410  set_a\\artifact__201012172012.wav\n",
      "1    0.000299  0.000534  0.003567  set_a\\artifact__201105040918.wav\n",
      "2    0.000485  0.000565  0.003529  set_a\\artifact__201105041959.wav\n",
      "3    0.010100  0.004798  0.027056  set_a\\artifact__201105051017.wav\n",
      "4    0.012662  0.017345  0.125319  set_a\\artifact__201105060108.wav\n",
      "..        ...       ...       ...                               ...\n",
      "119  0.016419  0.014560  0.047589    set_a\\normal__201106221450.wav\n",
      "120  0.028383  0.030878  0.105636    set_a\\normal__201108011112.wav\n",
      "121  0.020292  0.024005  0.092227    set_a\\normal__201108011114.wav\n",
      "122  0.024787  0.026148  0.093962    set_a\\normal__201108011115.wav\n",
      "123  0.038700  0.029629  0.088527    set_a\\normal__201108011118.wav\n",
      "\n",
      "[124 rows x 4 columns]\n"
     ]
    }
   ],
   "source": [
    "print(audio_all_env[['env_mean','env_std','env_max', 'fname']])"
   ]
  },
  {
   "cell_type": "markdown",
   "metadata": {},
   "source": [
    "## Add these values of envolpe into the main dataset we have created. Merge two dataframes"
   ]
  },
  {
   "cell_type": "code",
   "execution_count": 38,
   "metadata": {},
   "outputs": [
    {
     "data": {
      "text/html": [
       "<div>\n",
       "<style scoped>\n",
       "    .dataframe tbody tr th:only-of-type {\n",
       "        vertical-align: middle;\n",
       "    }\n",
       "\n",
       "    .dataframe tbody tr th {\n",
       "        vertical-align: top;\n",
       "    }\n",
       "\n",
       "    .dataframe thead th {\n",
       "        text-align: right;\n",
       "    }\n",
       "</style>\n",
       "<table border=\"1\" class=\"dataframe\">\n",
       "  <thead>\n",
       "    <tr style=\"text-align: right;\">\n",
       "      <th></th>\n",
       "      <th>fname</th>\n",
       "      <th>dataset</th>\n",
       "      <th>label</th>\n",
       "      <th>sfreq</th>\n",
       "      <th>min</th>\n",
       "      <th>mean</th>\n",
       "      <th>max</th>\n",
       "      <th>class</th>\n",
       "    </tr>\n",
       "  </thead>\n",
       "  <tbody>\n",
       "    <tr>\n",
       "      <th>0</th>\n",
       "      <td>set_a/artifact__201012172012.wav</td>\n",
       "      <td>a</td>\n",
       "      <td>artifact</td>\n",
       "      <td>22050</td>\n",
       "      <td>-0.730766</td>\n",
       "      <td>-1.04662e-05</td>\n",
       "      <td>0.712701</td>\n",
       "      <td>1</td>\n",
       "    </tr>\n",
       "    <tr>\n",
       "      <th>1</th>\n",
       "      <td>set_a/artifact__201105040918.wav</td>\n",
       "      <td>a</td>\n",
       "      <td>artifact</td>\n",
       "      <td>22050</td>\n",
       "      <td>-0.0173211</td>\n",
       "      <td>-1.10528e-06</td>\n",
       "      <td>0.0158929</td>\n",
       "      <td>1</td>\n",
       "    </tr>\n",
       "    <tr>\n",
       "      <th>2</th>\n",
       "      <td>set_a/artifact__201105041959.wav</td>\n",
       "      <td>a</td>\n",
       "      <td>artifact</td>\n",
       "      <td>22050</td>\n",
       "      <td>-0.0204537</td>\n",
       "      <td>4.74498e-07</td>\n",
       "      <td>0.0195355</td>\n",
       "      <td>1</td>\n",
       "    </tr>\n",
       "    <tr>\n",
       "      <th>3</th>\n",
       "      <td>set_a/artifact__201105051017.wav</td>\n",
       "      <td>a</td>\n",
       "      <td>artifact</td>\n",
       "      <td>22050</td>\n",
       "      <td>-0.920064</td>\n",
       "      <td>-1.36942e-05</td>\n",
       "      <td>0.762148</td>\n",
       "      <td>1</td>\n",
       "    </tr>\n",
       "    <tr>\n",
       "      <th>4</th>\n",
       "      <td>set_a/artifact__201105060108.wav</td>\n",
       "      <td>a</td>\n",
       "      <td>artifact</td>\n",
       "      <td>22050</td>\n",
       "      <td>-0.905326</td>\n",
       "      <td>-2.86369e-05</td>\n",
       "      <td>0.924389</td>\n",
       "      <td>1</td>\n",
       "    </tr>\n",
       "  </tbody>\n",
       "</table>\n",
       "</div>"
      ],
      "text/plain": [
       "                              fname dataset     label  sfreq        min  \\\n",
       "0  set_a/artifact__201012172012.wav       a  artifact  22050  -0.730766   \n",
       "1  set_a/artifact__201105040918.wav       a  artifact  22050 -0.0173211   \n",
       "2  set_a/artifact__201105041959.wav       a  artifact  22050 -0.0204537   \n",
       "3  set_a/artifact__201105051017.wav       a  artifact  22050  -0.920064   \n",
       "4  set_a/artifact__201105060108.wav       a  artifact  22050  -0.905326   \n",
       "\n",
       "          mean        max class  \n",
       "0 -1.04662e-05   0.712701     1  \n",
       "1 -1.10528e-06  0.0158929     1  \n",
       "2  4.74498e-07  0.0195355     1  \n",
       "3 -1.36942e-05   0.762148     1  \n",
       "4 -2.86369e-05   0.924389     1  "
      ]
     },
     "execution_count": 38,
     "metadata": {},
     "output_type": "execute_result"
    }
   ],
   "source": [
    "data_df=data_df.reset_index()\n",
    "data_df.head()"
   ]
  },
  {
   "cell_type": "code",
   "execution_count": 42,
   "metadata": {},
   "outputs": [
    {
     "data": {
      "text/html": [
       "<div>\n",
       "<style scoped>\n",
       "    .dataframe tbody tr th:only-of-type {\n",
       "        vertical-align: middle;\n",
       "    }\n",
       "\n",
       "    .dataframe tbody tr th {\n",
       "        vertical-align: top;\n",
       "    }\n",
       "\n",
       "    .dataframe thead th {\n",
       "        text-align: right;\n",
       "    }\n",
       "</style>\n",
       "<table border=\"1\" class=\"dataframe\">\n",
       "  <thead>\n",
       "    <tr style=\"text-align: right;\">\n",
       "      <th></th>\n",
       "      <th>fname</th>\n",
       "      <th>dataset</th>\n",
       "      <th>label</th>\n",
       "      <th>sfreq</th>\n",
       "      <th>min</th>\n",
       "      <th>mean</th>\n",
       "      <th>max</th>\n",
       "      <th>class</th>\n",
       "      <th>env_mean</th>\n",
       "      <th>env_std</th>\n",
       "      <th>env_max</th>\n",
       "    </tr>\n",
       "  </thead>\n",
       "  <tbody>\n",
       "    <tr>\n",
       "      <th>0</th>\n",
       "      <td>set_a/artifact__201012172012.wav</td>\n",
       "      <td>a</td>\n",
       "      <td>artifact</td>\n",
       "      <td>22050</td>\n",
       "      <td>-0.730766</td>\n",
       "      <td>-1.04662e-05</td>\n",
       "      <td>0.712701</td>\n",
       "      <td>1</td>\n",
       "      <td>0.001324</td>\n",
       "      <td>0.005395</td>\n",
       "      <td>0.043410</td>\n",
       "    </tr>\n",
       "    <tr>\n",
       "      <th>1</th>\n",
       "      <td>set_a/artifact__201105040918.wav</td>\n",
       "      <td>a</td>\n",
       "      <td>artifact</td>\n",
       "      <td>22050</td>\n",
       "      <td>-0.0173211</td>\n",
       "      <td>-1.10528e-06</td>\n",
       "      <td>0.0158929</td>\n",
       "      <td>1</td>\n",
       "      <td>0.000299</td>\n",
       "      <td>0.000534</td>\n",
       "      <td>0.003567</td>\n",
       "    </tr>\n",
       "    <tr>\n",
       "      <th>2</th>\n",
       "      <td>set_a/artifact__201105041959.wav</td>\n",
       "      <td>a</td>\n",
       "      <td>artifact</td>\n",
       "      <td>22050</td>\n",
       "      <td>-0.0204537</td>\n",
       "      <td>4.74498e-07</td>\n",
       "      <td>0.0195355</td>\n",
       "      <td>1</td>\n",
       "      <td>0.000485</td>\n",
       "      <td>0.000565</td>\n",
       "      <td>0.003529</td>\n",
       "    </tr>\n",
       "    <tr>\n",
       "      <th>3</th>\n",
       "      <td>set_a/artifact__201105051017.wav</td>\n",
       "      <td>a</td>\n",
       "      <td>artifact</td>\n",
       "      <td>22050</td>\n",
       "      <td>-0.920064</td>\n",
       "      <td>-1.36942e-05</td>\n",
       "      <td>0.762148</td>\n",
       "      <td>1</td>\n",
       "      <td>0.010100</td>\n",
       "      <td>0.004798</td>\n",
       "      <td>0.027056</td>\n",
       "    </tr>\n",
       "    <tr>\n",
       "      <th>4</th>\n",
       "      <td>set_a/artifact__201105060108.wav</td>\n",
       "      <td>a</td>\n",
       "      <td>artifact</td>\n",
       "      <td>22050</td>\n",
       "      <td>-0.905326</td>\n",
       "      <td>-2.86369e-05</td>\n",
       "      <td>0.924389</td>\n",
       "      <td>1</td>\n",
       "      <td>0.012662</td>\n",
       "      <td>0.017345</td>\n",
       "      <td>0.125319</td>\n",
       "    </tr>\n",
       "  </tbody>\n",
       "</table>\n",
       "</div>"
      ],
      "text/plain": [
       "                              fname dataset     label  sfreq        min  \\\n",
       "0  set_a/artifact__201012172012.wav       a  artifact  22050  -0.730766   \n",
       "1  set_a/artifact__201105040918.wav       a  artifact  22050 -0.0173211   \n",
       "2  set_a/artifact__201105041959.wav       a  artifact  22050 -0.0204537   \n",
       "3  set_a/artifact__201105051017.wav       a  artifact  22050  -0.920064   \n",
       "4  set_a/artifact__201105060108.wav       a  artifact  22050  -0.905326   \n",
       "\n",
       "          mean        max class  env_mean   env_std   env_max  \n",
       "0 -1.04662e-05   0.712701     1  0.001324  0.005395  0.043410  \n",
       "1 -1.10528e-06  0.0158929     1  0.000299  0.000534  0.003567  \n",
       "2  4.74498e-07  0.0195355     1  0.000485  0.000565  0.003529  \n",
       "3 -1.36942e-05   0.762148     1  0.010100  0.004798  0.027056  \n",
       "4 -2.86369e-05   0.924389     1  0.012662  0.017345  0.125319  "
      ]
     },
     "execution_count": 42,
     "metadata": {},
     "output_type": "execute_result"
    }
   ],
   "source": [
    "data_df_1=data_df.merge(audio_all_env[['env_mean','env_std','env_max', 'fname']], on='fname', how='left', left_index=True, right_index=True)\n",
    "#data_df.reset_index()\n",
    "data_df_1.head()"
   ]
  },
  {
   "cell_type": "code",
   "execution_count": null,
   "metadata": {},
   "outputs": [
    {
     "data": {
      "text/plain": [
       "'The testing accuracy is 0.7368421052631579'"
      ]
     },
     "metadata": {},
     "output_type": "display_data"
    },
    {
     "data": {
      "text/plain": [
       "'The training accuracy is 0.7558139534883721'"
      ]
     },
     "metadata": {},
     "output_type": "display_data"
    }
   ],
   "source": [
    "model=LinearSVC()\n",
    "#extract the features and label in seperate sheet\n",
    "X=data_df[['env_mean','env_std','env_max']].values\n",
    "y=data_df['class'].values.astype(int)\n",
    "#Split the dataset\n",
    "X_train, X_test, y_train, y_test=train_test_split(X,y,test_size=0.3, stratify=y, random_state=111)\n",
    "model.fit(X_train,y_train)\n",
    "predictions=model.predict(X_test)\n",
    "display('The testing accuracy is {}'.format(accuracy_score(y_test, predictions)))\n",
    "predictions=model.predict(X_train)\n",
    "display('The training accuracy is {}'.format(accuracy_score(y_train, predictions)))"
   ]
  },
  {
   "cell_type": "code",
   "execution_count": null,
   "metadata": {},
   "outputs": [
    {
     "name": "stdout",
     "output_type": "stream",
     "text": [
      "[0.76 0.76 0.76 0.72 0.75]\n"
     ]
    }
   ],
   "source": [
    "from sklearn.model_selection import cross_val_score\n",
    "model = LinearSVC()\n",
    "scores = cross_val_score(model, X, y, cv=5)\n",
    "print(scores)"
   ]
  },
  {
   "cell_type": "markdown",
   "metadata": {},
   "source": [
    "# Tempgraph"
   ]
  },
  {
   "cell_type": "code",
   "execution_count": 44,
   "metadata": {},
   "outputs": [],
   "source": [
    "audio, sfreq=lr.load(audio_files[50])\n",
    "audio_tempo = lr.beat.tempo(audio, sr=sfreq, hop_length=2**6, aggregate=None)"
   ]
  },
  {
   "cell_type": "code",
   "execution_count": 45,
   "metadata": {},
   "outputs": [
    {
     "data": {
      "image/png": "[encoded data removed]",
      "text/plain": [
       "<Figure size 432x288 with 1 Axes>"
      ]
     },
     "metadata": {
      "needs_background": "light"
     },
     "output_type": "display_data"
    }
   ],
   "source": [
    "time=np.arange(0,3101)\n",
    "plt.plot(time,audio_tempo)\n",
    "plt.xlabel(\"Tempo Points\")\n",
    "plt.ylabel(\"Value of tempo\")\n",
    "plt.title(\"Tempo of an Audio File\")\n",
    "plt.savefig(\"5.png\", dpi=300)\n",
    "plt.show()"
   ]
  },
  {
   "cell_type": "markdown",
   "metadata": {},
   "source": [
    "# We can extract features from audio tempo"
   ]
  },
  {
   "cell_type": "code",
   "execution_count": null,
   "metadata": {},
   "outputs": [
    {
     "data": {
      "text/plain": [
       "array([ 2.2960085e-05, -1.2982322e-04, -1.8070513e-04, ...,\n",
       "       -1.1625490e-04, -2.9164508e-05,  2.9171622e-05], dtype=float32)"
      ]
     },
     "execution_count": 35,
     "metadata": {},
     "output_type": "execute_result"
    }
   ],
   "source": [
    "files[0]"
   ]
  },
  {
   "cell_type": "code",
   "execution_count": 46,
   "metadata": {},
   "outputs": [
    {
     "name": "stdout",
     "output_type": "stream",
     "text": [
      "Starting file 0\n",
      "\n",
      "Starting file 1\n",
      "\n",
      "Starting file 2\n",
      "\n",
      "Starting file 3\n",
      "\n",
      "Starting file 4\n",
      "\n",
      "Starting file 5\n",
      "\n",
      "Starting file 6\n",
      "\n",
      "Starting file 7\n",
      "\n",
      "Starting file 8\n",
      "\n",
      "Starting file 9\n",
      "\n",
      "Starting file 10\n",
      "\n",
      "Starting file 11\n",
      "\n",
      "Starting file 12\n",
      "\n",
      "Starting file 13\n",
      "\n",
      "Starting file 14\n",
      "\n",
      "Starting file 15\n",
      "\n",
      "Starting file 16\n",
      "\n",
      "Starting file 17\n",
      "\n",
      "Starting file 18\n",
      "\n",
      "Starting file 19\n",
      "\n",
      "Starting file 20\n",
      "\n",
      "Starting file 21\n",
      "\n",
      "Starting file 22\n",
      "\n",
      "Starting file 23\n",
      "\n",
      "Starting file 24\n",
      "\n",
      "Starting file 25\n",
      "\n",
      "Starting file 26\n",
      "\n",
      "Starting file 27\n",
      "\n",
      "Starting file 28\n",
      "\n",
      "Starting file 29\n",
      "\n",
      "Starting file 30\n",
      "\n",
      "Starting file 31\n",
      "\n",
      "Starting file 32\n",
      "\n",
      "Starting file 33\n",
      "\n",
      "Starting file 34\n",
      "\n",
      "Starting file 35\n",
      "\n",
      "Starting file 36\n",
      "\n",
      "Starting file 37\n",
      "\n",
      "Starting file 38\n",
      "\n",
      "Starting file 39\n",
      "\n",
      "Starting file 40\n",
      "\n",
      "Starting file 41\n",
      "\n",
      "Starting file 42\n",
      "\n",
      "Starting file 43\n",
      "\n",
      "Starting file 44\n",
      "\n",
      "Starting file 45\n",
      "\n",
      "Starting file 46\n",
      "\n",
      "Starting file 47\n",
      "\n",
      "Starting file 48\n",
      "\n",
      "Starting file 49\n",
      "\n",
      "Starting file 50\n",
      "\n",
      "Starting file 51\n",
      "\n",
      "Starting file 52\n",
      "\n",
      "Starting file 53\n",
      "\n",
      "Starting file 54\n",
      "\n",
      "Starting file 55\n",
      "\n",
      "Starting file 56\n",
      "\n",
      "Starting file 57\n",
      "\n",
      "Starting file 58\n",
      "\n",
      "Starting file 59\n",
      "\n",
      "Starting file 60\n",
      "\n",
      "Starting file 61\n",
      "\n",
      "Starting file 62\n",
      "\n",
      "Starting file 63\n",
      "\n",
      "Starting file 64\n",
      "\n",
      "Starting file 65\n",
      "\n",
      "Starting file 66\n",
      "\n",
      "Starting file 67\n",
      "\n",
      "Starting file 68\n",
      "\n",
      "Starting file 69\n",
      "\n",
      "Starting file 70\n",
      "\n",
      "Starting file 71\n",
      "\n",
      "Starting file 72\n",
      "\n",
      "Starting file 73\n",
      "\n",
      "Starting file 74\n",
      "\n",
      "Starting file 75\n",
      "\n",
      "Starting file 76\n",
      "\n",
      "Starting file 77\n",
      "\n",
      "Starting file 78\n",
      "\n",
      "Starting file 79\n",
      "\n",
      "Starting file 80\n",
      "\n",
      "Starting file 81\n",
      "\n",
      "Starting file 82\n",
      "\n",
      "Starting file 83\n",
      "\n",
      "Starting file 84\n",
      "\n",
      "Starting file 85\n",
      "\n",
      "Starting file 86\n",
      "\n",
      "Starting file 87\n",
      "\n",
      "Starting file 88\n",
      "\n",
      "Starting file 89\n",
      "\n",
      "Starting file 90\n",
      "\n",
      "Starting file 91\n",
      "\n",
      "Starting file 92\n",
      "\n",
      "Starting file 93\n",
      "\n",
      "Starting file 94\n",
      "\n",
      "Starting file 95\n",
      "\n",
      "Starting file 96\n",
      "\n",
      "Starting file 97\n",
      "\n",
      "Starting file 98\n",
      "\n",
      "Starting file 99\n",
      "\n",
      "Starting file 100\n",
      "\n",
      "Starting file 101\n",
      "\n",
      "Starting file 102\n",
      "\n",
      "Starting file 103\n",
      "\n",
      "Starting file 104\n",
      "\n",
      "Starting file 105\n",
      "\n",
      "Starting file 106\n",
      "\n",
      "Starting file 107\n",
      "\n",
      "Starting file 108\n",
      "\n",
      "Starting file 109\n",
      "\n",
      "Starting file 110\n",
      "\n",
      "Starting file 111\n",
      "\n",
      "Starting file 112\n",
      "\n",
      "Starting file 113\n",
      "\n",
      "Starting file 114\n",
      "\n",
      "Starting file 115\n",
      "\n",
      "Starting file 116\n",
      "\n",
      "Starting file 117\n",
      "\n",
      "Starting file 118\n",
      "\n",
      "Starting file 119\n",
      "\n",
      "Starting file 120\n",
      "\n",
      "Starting file 121\n",
      "\n",
      "Starting file 122\n",
      "\n",
      "Starting file 123\n",
      "\n"
     ]
    },
    {
     "data": {
      "text/html": [
       "<div>\n",
       "<style scoped>\n",
       "    .dataframe tbody tr th:only-of-type {\n",
       "        vertical-align: middle;\n",
       "    }\n",
       "\n",
       "    .dataframe tbody tr th {\n",
       "        vertical-align: top;\n",
       "    }\n",
       "\n",
       "    .dataframe thead th {\n",
       "        text-align: right;\n",
       "    }\n",
       "</style>\n",
       "<table border=\"1\" class=\"dataframe\">\n",
       "  <thead>\n",
       "    <tr style=\"text-align: right;\">\n",
       "      <th></th>\n",
       "      <th>0</th>\n",
       "      <th>1</th>\n",
       "      <th>2</th>\n",
       "      <th>3</th>\n",
       "      <th>4</th>\n",
       "      <th>5</th>\n",
       "      <th>6</th>\n",
       "      <th>7</th>\n",
       "      <th>8</th>\n",
       "      <th>9</th>\n",
       "      <th>...</th>\n",
       "      <th>3092</th>\n",
       "      <th>3093</th>\n",
       "      <th>3094</th>\n",
       "      <th>3095</th>\n",
       "      <th>3096</th>\n",
       "      <th>3097</th>\n",
       "      <th>3098</th>\n",
       "      <th>3099</th>\n",
       "      <th>3100</th>\n",
       "      <th>fname</th>\n",
       "    </tr>\n",
       "  </thead>\n",
       "  <tbody>\n",
       "    <tr>\n",
       "      <th>0</th>\n",
       "      <td>84.032012</td>\n",
       "      <td>84.032012</td>\n",
       "      <td>84.032012</td>\n",
       "      <td>84.032012</td>\n",
       "      <td>84.032012</td>\n",
       "      <td>84.032012</td>\n",
       "      <td>84.032012</td>\n",
       "      <td>84.032012</td>\n",
       "      <td>84.032012</td>\n",
       "      <td>84.032012</td>\n",
       "      <td>...</td>\n",
       "      <td>114.209254</td>\n",
       "      <td>114.209254</td>\n",
       "      <td>114.209254</td>\n",
       "      <td>114.209254</td>\n",
       "      <td>114.209254</td>\n",
       "      <td>114.209254</td>\n",
       "      <td>114.209254</td>\n",
       "      <td>114.209254</td>\n",
       "      <td>114.209254</td>\n",
       "      <td>set_a\\artifact__201012172012.wav</td>\n",
       "    </tr>\n",
       "    <tr>\n",
       "      <th>1</th>\n",
       "      <td>121.599265</td>\n",
       "      <td>121.599265</td>\n",
       "      <td>121.599265</td>\n",
       "      <td>121.599265</td>\n",
       "      <td>121.599265</td>\n",
       "      <td>121.599265</td>\n",
       "      <td>121.599265</td>\n",
       "      <td>121.599265</td>\n",
       "      <td>121.599265</td>\n",
       "      <td>121.599265</td>\n",
       "      <td>...</td>\n",
       "      <td>120.185320</td>\n",
       "      <td>120.185320</td>\n",
       "      <td>120.185320</td>\n",
       "      <td>120.185320</td>\n",
       "      <td>120.185320</td>\n",
       "      <td>120.185320</td>\n",
       "      <td>120.185320</td>\n",
       "      <td>120.185320</td>\n",
       "      <td>120.185320</td>\n",
       "      <td>set_a\\artifact__201105040918.wav</td>\n",
       "    </tr>\n",
       "    <tr>\n",
       "      <th>2</th>\n",
       "      <td>133.366935</td>\n",
       "      <td>133.366935</td>\n",
       "      <td>133.366935</td>\n",
       "      <td>133.366935</td>\n",
       "      <td>133.366935</td>\n",
       "      <td>133.366935</td>\n",
       "      <td>133.366935</td>\n",
       "      <td>133.366935</td>\n",
       "      <td>133.366935</td>\n",
       "      <td>133.366935</td>\n",
       "      <td>...</td>\n",
       "      <td>187.926136</td>\n",
       "      <td>187.926136</td>\n",
       "      <td>187.926136</td>\n",
       "      <td>187.926136</td>\n",
       "      <td>187.926136</td>\n",
       "      <td>187.926136</td>\n",
       "      <td>187.926136</td>\n",
       "      <td>187.926136</td>\n",
       "      <td>187.926136</td>\n",
       "      <td>set_a\\artifact__201105041959.wav</td>\n",
       "    </tr>\n",
       "    <tr>\n",
       "      <th>3</th>\n",
       "      <td>134.232955</td>\n",
       "      <td>134.232955</td>\n",
       "      <td>134.232955</td>\n",
       "      <td>134.232955</td>\n",
       "      <td>134.232955</td>\n",
       "      <td>134.232955</td>\n",
       "      <td>134.232955</td>\n",
       "      <td>134.232955</td>\n",
       "      <td>134.232955</td>\n",
       "      <td>134.232955</td>\n",
       "      <td>...</td>\n",
       "      <td>128.396739</td>\n",
       "      <td>128.396739</td>\n",
       "      <td>128.396739</td>\n",
       "      <td>128.396739</td>\n",
       "      <td>128.396739</td>\n",
       "      <td>128.396739</td>\n",
       "      <td>128.396739</td>\n",
       "      <td>128.396739</td>\n",
       "      <td>128.396739</td>\n",
       "      <td>set_a\\artifact__201105051017.wav</td>\n",
       "    </tr>\n",
       "    <tr>\n",
       "      <th>4</th>\n",
       "      <td>89.488636</td>\n",
       "      <td>89.488636</td>\n",
       "      <td>89.488636</td>\n",
       "      <td>89.488636</td>\n",
       "      <td>89.488636</td>\n",
       "      <td>89.488636</td>\n",
       "      <td>89.488636</td>\n",
       "      <td>89.488636</td>\n",
       "      <td>89.488636</td>\n",
       "      <td>89.488636</td>\n",
       "      <td>...</td>\n",
       "      <td>144.558566</td>\n",
       "      <td>144.558566</td>\n",
       "      <td>144.558566</td>\n",
       "      <td>144.558566</td>\n",
       "      <td>144.558566</td>\n",
       "      <td>144.558566</td>\n",
       "      <td>144.558566</td>\n",
       "      <td>144.558566</td>\n",
       "      <td>144.558566</td>\n",
       "      <td>set_a\\artifact__201105060108.wav</td>\n",
       "    </tr>\n",
       "  </tbody>\n",
       "</table>\n",
       "<p>5 rows × 3102 columns</p>\n",
       "</div>"
      ],
      "text/plain": [
       "            0           1           2           3           4           5  \\\n",
       "0   84.032012   84.032012   84.032012   84.032012   84.032012   84.032012   \n",
       "1  121.599265  121.599265  121.599265  121.599265  121.599265  121.599265   \n",
       "2  133.366935  133.366935  133.366935  133.366935  133.366935  133.366935   \n",
       "3  134.232955  134.232955  134.232955  134.232955  134.232955  134.232955   \n",
       "4   89.488636   89.488636   89.488636   89.488636   89.488636   89.488636   \n",
       "\n",
       "            6           7           8           9  ...        3092  \\\n",
       "0   84.032012   84.032012   84.032012   84.032012  ...  114.209254   \n",
       "1  121.599265  121.599265  121.599265  121.599265  ...  120.185320   \n",
       "2  133.366935  133.366935  133.366935  133.366935  ...  187.926136   \n",
       "3  134.232955  134.232955  134.232955  134.232955  ...  128.396739   \n",
       "4   89.488636   89.488636   89.488636   89.488636  ...  144.558566   \n",
       "\n",
       "         3093        3094        3095        3096        3097        3098  \\\n",
       "0  114.209254  114.209254  114.209254  114.209254  114.209254  114.209254   \n",
       "1  120.185320  120.185320  120.185320  120.185320  120.185320  120.185320   \n",
       "2  187.926136  187.926136  187.926136  187.926136  187.926136  187.926136   \n",
       "3  128.396739  128.396739  128.396739  128.396739  128.396739  128.396739   \n",
       "4  144.558566  144.558566  144.558566  144.558566  144.558566  144.558566   \n",
       "\n",
       "         3099        3100                             fname  \n",
       "0  114.209254  114.209254  set_a\\artifact__201012172012.wav  \n",
       "1  120.185320  120.185320  set_a\\artifact__201105040918.wav  \n",
       "2  187.926136  187.926136  set_a\\artifact__201105041959.wav  \n",
       "3  128.396739  128.396739  set_a\\artifact__201105051017.wav  \n",
       "4  144.558566  144.558566  set_a\\artifact__201105060108.wav  \n",
       "\n",
       "[5 rows x 3102 columns]"
      ]
     },
     "execution_count": 46,
     "metadata": {},
     "output_type": "execute_result"
    }
   ],
   "source": [
    "file_temp=[]\n",
    "for i in range(len(files)):\n",
    "    print(\"Starting file {}\\n\".format(i))\n",
    "    audio_tempo = lr.beat.tempo(files[i], sr=sfreq, hop_length=2**6, aggregate=None)\n",
    "    file_temp.append(audio_tempo)\n",
    "audio_all_tempo=pd.DataFrame(file_temp)\n",
    "audio_all_tempo['fname']=names\n",
    "audio_all_tempo.head()"
   ]
  },
  {
   "cell_type": "code",
   "execution_count": 47,
   "metadata": {},
   "outputs": [
    {
     "name": "stdout",
     "output_type": "stream",
     "text": [
      "(124, 3102)\n"
     ]
    }
   ],
   "source": [
    "print(audio_all_tempo.shape)"
   ]
  },
  {
   "cell_type": "code",
   "execution_count": 48,
   "metadata": {},
   "outputs": [],
   "source": [
    "audio_all_tempo['tempo_mean']= audio_all_tempo.mean(axis=1)\n",
    "audio_all_tempo['tempo_std']=audio_all_tempo.std(axis=1)\n",
    "audio_all_tempo['tempo_max']=audio_all_tempo.max(axis=1)"
   ]
  },
  {
   "cell_type": "code",
   "execution_count": null,
   "metadata": {},
   "outputs": [
    {
     "name": "stdout",
     "output_type": "stream",
     "text": [
      "Index([           0,            1,            2,            3,            4,\n",
      "                  5,            6,            7,            8,            9,\n",
      "       ...\n",
      "               3094,         3095,         3096,         3097,         3098,\n",
      "               3099,         3100, 'tempo_mean',  'tempo_std',  'tempo_max'],\n",
      "      dtype='object', length=3104)\n"
     ]
    }
   ],
   "source": [
    "print(audio_all_tempo.columns)"
   ]
  },
  {
   "cell_type": "code",
   "execution_count": 49,
   "metadata": {},
   "outputs": [
    {
     "data": {
      "text/html": [
       "<div>\n",
       "<style scoped>\n",
       "    .dataframe tbody tr th:only-of-type {\n",
       "        vertical-align: middle;\n",
       "    }\n",
       "\n",
       "    .dataframe tbody tr th {\n",
       "        vertical-align: top;\n",
       "    }\n",
       "\n",
       "    .dataframe thead th {\n",
       "        text-align: right;\n",
       "    }\n",
       "</style>\n",
       "<table border=\"1\" class=\"dataframe\">\n",
       "  <thead>\n",
       "    <tr style=\"text-align: right;\">\n",
       "      <th></th>\n",
       "      <th>fname</th>\n",
       "      <th>dataset</th>\n",
       "      <th>label</th>\n",
       "      <th>sfreq</th>\n",
       "      <th>min</th>\n",
       "      <th>mean</th>\n",
       "      <th>max</th>\n",
       "      <th>class</th>\n",
       "      <th>tempo_mean</th>\n",
       "      <th>tempo_std</th>\n",
       "      <th>tempo_max</th>\n",
       "    </tr>\n",
       "  </thead>\n",
       "  <tbody>\n",
       "    <tr>\n",
       "      <th>0</th>\n",
       "      <td>set_a/artifact__201012172012.wav</td>\n",
       "      <td>a</td>\n",
       "      <td>artifact</td>\n",
       "      <td>22050</td>\n",
       "      <td>-0.730766</td>\n",
       "      <td>-1.04662e-05</td>\n",
       "      <td>0.712701</td>\n",
       "      <td>1</td>\n",
       "      <td>117.414923</td>\n",
       "      <td>21.062747</td>\n",
       "      <td>136.899834</td>\n",
       "    </tr>\n",
       "    <tr>\n",
       "      <th>1</th>\n",
       "      <td>set_a/artifact__201105040918.wav</td>\n",
       "      <td>a</td>\n",
       "      <td>artifact</td>\n",
       "      <td>22050</td>\n",
       "      <td>-0.0173211</td>\n",
       "      <td>-1.10528e-06</td>\n",
       "      <td>0.0158929</td>\n",
       "      <td>1</td>\n",
       "      <td>112.012669</td>\n",
       "      <td>9.969253</td>\n",
       "      <td>153.125000</td>\n",
       "    </tr>\n",
       "    <tr>\n",
       "      <th>2</th>\n",
       "      <td>set_a/artifact__201105041959.wav</td>\n",
       "      <td>a</td>\n",
       "      <td>artifact</td>\n",
       "      <td>22050</td>\n",
       "      <td>-0.0204537</td>\n",
       "      <td>4.74498e-07</td>\n",
       "      <td>0.0195355</td>\n",
       "      <td>1</td>\n",
       "      <td>130.103762</td>\n",
       "      <td>22.025754</td>\n",
       "      <td>187.926136</td>\n",
       "    </tr>\n",
       "    <tr>\n",
       "      <th>3</th>\n",
       "      <td>set_a/artifact__201105051017.wav</td>\n",
       "      <td>a</td>\n",
       "      <td>artifact</td>\n",
       "      <td>22050</td>\n",
       "      <td>-0.920064</td>\n",
       "      <td>-1.36942e-05</td>\n",
       "      <td>0.762148</td>\n",
       "      <td>1</td>\n",
       "      <td>111.872001</td>\n",
       "      <td>17.118809</td>\n",
       "      <td>134.232955</td>\n",
       "    </tr>\n",
       "    <tr>\n",
       "      <th>4</th>\n",
       "      <td>set_a/artifact__201105060108.wav</td>\n",
       "      <td>a</td>\n",
       "      <td>artifact</td>\n",
       "      <td>22050</td>\n",
       "      <td>-0.905326</td>\n",
       "      <td>-2.86369e-05</td>\n",
       "      <td>0.924389</td>\n",
       "      <td>1</td>\n",
       "      <td>124.033688</td>\n",
       "      <td>24.434358</td>\n",
       "      <td>161.499023</td>\n",
       "    </tr>\n",
       "  </tbody>\n",
       "</table>\n",
       "</div>"
      ],
      "text/plain": [
       "                              fname dataset     label  sfreq        min  \\\n",
       "0  set_a/artifact__201012172012.wav       a  artifact  22050  -0.730766   \n",
       "1  set_a/artifact__201105040918.wav       a  artifact  22050 -0.0173211   \n",
       "2  set_a/artifact__201105041959.wav       a  artifact  22050 -0.0204537   \n",
       "3  set_a/artifact__201105051017.wav       a  artifact  22050  -0.920064   \n",
       "4  set_a/artifact__201105060108.wav       a  artifact  22050  -0.905326   \n",
       "\n",
       "          mean        max class  tempo_mean  tempo_std   tempo_max  \n",
       "0 -1.04662e-05   0.712701     1  117.414923  21.062747  136.899834  \n",
       "1 -1.10528e-06  0.0158929     1  112.012669   9.969253  153.125000  \n",
       "2  4.74498e-07  0.0195355     1  130.103762  22.025754  187.926136  \n",
       "3 -1.36942e-05   0.762148     1  111.872001  17.118809  134.232955  \n",
       "4 -2.86369e-05   0.924389     1  124.033688  24.434358  161.499023  "
      ]
     },
     "execution_count": 49,
     "metadata": {},
     "output_type": "execute_result"
    }
   ],
   "source": [
    "data_df1=data_df.merge(audio_all_tempo[['tempo_mean','tempo_std','tempo_max', 'fname']], on='fname', how='left', left_index=True, right_index=True)\n",
    "data_df1.head()"
   ]
  },
  {
   "cell_type": "code",
   "execution_count": null,
   "metadata": {},
   "outputs": [
    {
     "data": {
      "text/html": [
       "<div>\n",
       "<style scoped>\n",
       "    .dataframe tbody tr th:only-of-type {\n",
       "        vertical-align: middle;\n",
       "    }\n",
       "\n",
       "    .dataframe tbody tr th {\n",
       "        vertical-align: top;\n",
       "    }\n",
       "\n",
       "    .dataframe thead th {\n",
       "        text-align: right;\n",
       "    }\n",
       "</style>\n",
       "<table border=\"1\" class=\"dataframe\">\n",
       "  <thead>\n",
       "    <tr style=\"text-align: right;\">\n",
       "      <th></th>\n",
       "      <th>dataset</th>\n",
       "      <th>label</th>\n",
       "      <th>sfreq</th>\n",
       "      <th>min</th>\n",
       "      <th>mean</th>\n",
       "      <th>max</th>\n",
       "      <th>class</th>\n",
       "      <th>env_mean</th>\n",
       "      <th>env_std</th>\n",
       "      <th>env_max</th>\n",
       "      <th>tempo_mean</th>\n",
       "      <th>tempo_std</th>\n",
       "      <th>tempo_max</th>\n",
       "    </tr>\n",
       "    <tr>\n",
       "      <th>key_0</th>\n",
       "      <th></th>\n",
       "      <th></th>\n",
       "      <th></th>\n",
       "      <th></th>\n",
       "      <th></th>\n",
       "      <th></th>\n",
       "      <th></th>\n",
       "      <th></th>\n",
       "      <th></th>\n",
       "      <th></th>\n",
       "      <th></th>\n",
       "      <th></th>\n",
       "      <th></th>\n",
       "    </tr>\n",
       "  </thead>\n",
       "  <tbody>\n",
       "    <tr>\n",
       "      <th>set_a/artifact__201012172012.wav</th>\n",
       "      <td>a</td>\n",
       "      <td>artifact</td>\n",
       "      <td>22050</td>\n",
       "      <td>-0.730766</td>\n",
       "      <td>-1.04662e-05</td>\n",
       "      <td>0.712701</td>\n",
       "      <td>1</td>\n",
       "      <td>0.001324</td>\n",
       "      <td>0.005395</td>\n",
       "      <td>0.043410</td>\n",
       "      <td>117.414923</td>\n",
       "      <td>21.062747</td>\n",
       "      <td>136.899834</td>\n",
       "    </tr>\n",
       "    <tr>\n",
       "      <th>set_a/artifact__201105040918.wav</th>\n",
       "      <td>a</td>\n",
       "      <td>artifact</td>\n",
       "      <td>22050</td>\n",
       "      <td>-0.0173211</td>\n",
       "      <td>-1.10528e-06</td>\n",
       "      <td>0.0158929</td>\n",
       "      <td>1</td>\n",
       "      <td>0.000299</td>\n",
       "      <td>0.000534</td>\n",
       "      <td>0.003567</td>\n",
       "      <td>112.012669</td>\n",
       "      <td>9.969253</td>\n",
       "      <td>153.125000</td>\n",
       "    </tr>\n",
       "    <tr>\n",
       "      <th>set_a/artifact__201105041959.wav</th>\n",
       "      <td>a</td>\n",
       "      <td>artifact</td>\n",
       "      <td>22050</td>\n",
       "      <td>-0.0204537</td>\n",
       "      <td>4.74498e-07</td>\n",
       "      <td>0.0195355</td>\n",
       "      <td>1</td>\n",
       "      <td>0.000485</td>\n",
       "      <td>0.000565</td>\n",
       "      <td>0.003529</td>\n",
       "      <td>130.103762</td>\n",
       "      <td>22.025754</td>\n",
       "      <td>187.926136</td>\n",
       "    </tr>\n",
       "    <tr>\n",
       "      <th>set_a/artifact__201105051017.wav</th>\n",
       "      <td>a</td>\n",
       "      <td>artifact</td>\n",
       "      <td>22050</td>\n",
       "      <td>-0.920064</td>\n",
       "      <td>-1.36942e-05</td>\n",
       "      <td>0.762148</td>\n",
       "      <td>1</td>\n",
       "      <td>0.010100</td>\n",
       "      <td>0.004798</td>\n",
       "      <td>0.027056</td>\n",
       "      <td>111.872001</td>\n",
       "      <td>17.118809</td>\n",
       "      <td>134.232955</td>\n",
       "    </tr>\n",
       "    <tr>\n",
       "      <th>set_a/artifact__201105060108.wav</th>\n",
       "      <td>a</td>\n",
       "      <td>artifact</td>\n",
       "      <td>22050</td>\n",
       "      <td>-0.905326</td>\n",
       "      <td>-2.86369e-05</td>\n",
       "      <td>0.924389</td>\n",
       "      <td>1</td>\n",
       "      <td>0.012662</td>\n",
       "      <td>0.017345</td>\n",
       "      <td>0.125319</td>\n",
       "      <td>124.033688</td>\n",
       "      <td>24.434358</td>\n",
       "      <td>161.499023</td>\n",
       "    </tr>\n",
       "  </tbody>\n",
       "</table>\n",
       "</div>"
      ],
      "text/plain": [
       "                                 dataset     label  sfreq        min  \\\n",
       "key_0                                                                  \n",
       "set_a/artifact__201012172012.wav       a  artifact  22050  -0.730766   \n",
       "set_a/artifact__201105040918.wav       a  artifact  22050 -0.0173211   \n",
       "set_a/artifact__201105041959.wav       a  artifact  22050 -0.0204537   \n",
       "set_a/artifact__201105051017.wav       a  artifact  22050  -0.920064   \n",
       "set_a/artifact__201105060108.wav       a  artifact  22050  -0.905326   \n",
       "\n",
       "                                         mean        max class  env_mean  \\\n",
       "key_0                                                                      \n",
       "set_a/artifact__201012172012.wav -1.04662e-05   0.712701     1  0.001324   \n",
       "set_a/artifact__201105040918.wav -1.10528e-06  0.0158929     1  0.000299   \n",
       "set_a/artifact__201105041959.wav  4.74498e-07  0.0195355     1  0.000485   \n",
       "set_a/artifact__201105051017.wav -1.36942e-05   0.762148     1  0.010100   \n",
       "set_a/artifact__201105060108.wav -2.86369e-05   0.924389     1  0.012662   \n",
       "\n",
       "                                   env_std   env_max  tempo_mean  tempo_std  \\\n",
       "key_0                                                                         \n",
       "set_a/artifact__201012172012.wav  0.005395  0.043410  117.414923  21.062747   \n",
       "set_a/artifact__201105040918.wav  0.000534  0.003567  112.012669   9.969253   \n",
       "set_a/artifact__201105041959.wav  0.000565  0.003529  130.103762  22.025754   \n",
       "set_a/artifact__201105051017.wav  0.004798  0.027056  111.872001  17.118809   \n",
       "set_a/artifact__201105060108.wav  0.017345  0.125319  124.033688  24.434358   \n",
       "\n",
       "                                   tempo_max  \n",
       "key_0                                         \n",
       "set_a/artifact__201012172012.wav  136.899834  \n",
       "set_a/artifact__201105040918.wav  153.125000  \n",
       "set_a/artifact__201105041959.wav  187.926136  \n",
       "set_a/artifact__201105051017.wav  134.232955  \n",
       "set_a/artifact__201105060108.wav  161.499023  "
      ]
     },
     "execution_count": 64,
     "metadata": {},
     "output_type": "execute_result"
    }
   ],
   "source": [
    "data_df=data_df.set_index('key_0')\n",
    "#data_df.drop(columns='index', axis=1, inplace=True)\n",
    "data_df.head()"
   ]
  },
  {
   "cell_type": "code",
   "execution_count": null,
   "metadata": {},
   "outputs": [
    {
     "name": "stderr",
     "output_type": "stream",
     "text": [
      "C:\\ProgramData\\Anaconda3\\lib\\site-packages\\sklearn\\svm\\_base.py:976: ConvergenceWarning: Liblinear failed to converge, increase the number of iterations.\n",
      "  warnings.warn(\"Liblinear failed to converge, increase \"\n"
     ]
    },
    {
     "data": {
      "text/plain": [
       "'The testing accuracy is 0.2894736842105263'"
      ]
     },
     "metadata": {},
     "output_type": "display_data"
    },
    {
     "data": {
      "text/plain": [
       "'The training accuracy is 0.2558139534883721'"
      ]
     },
     "metadata": {},
     "output_type": "display_data"
    }
   ],
   "source": [
    "model=LinearSVC()\n",
    "#extract the features and label in seperate sheet\n",
    "X=data_df[['env_mean','env_std','env_max','tempo_mean','tempo_std','tempo_max']].values\n",
    "y=data_df['class'].values.astype(int)\n",
    "#Split the dataset\n",
    "X_train, X_test, y_train, y_test=train_test_split(X,y,test_size=0.3, stratify=y, random_state=111)\n",
    "model.fit(X_train,y_train)\n",
    "predictions=model.predict(X_test)\n",
    "display('The testing accuracy is {}'.format(accuracy_score(y_test, predictions)))\n",
    "predictions=model.predict(X_train)\n",
    "display('The training accuracy is {}'.format(accuracy_score(y_train, predictions)))"
   ]
  },
  {
   "cell_type": "code",
   "execution_count": null,
   "metadata": {},
   "outputs": [],
   "source": []
  }
 ],
 "metadata": {
  "interpreter": {
   "hash": "6f05207dc22e673819cd6a0331e161c2d6c199b1c19a840c127b4d5190ac2da0"
  },
  "kernelspec": {
   "display_name": "Python 3.7.9 64-bit ('myenv': conda)",
   "name": "python3"
  },
  "language_info": {
   "codemirror_mode": {
    "name": "ipython",
    "version": 3
   },
   "file_extension": ".py",
   "mimetype": "text/x-python",
   "name": "python",
   "nbconvert_exporter": "python",
   "pygments_lexer": "ipython3",
   "version": "3.7.9"
  },
  "orig_nbformat": 4
 },
 "nbformat": 4,
 "nbformat_minor": 2
}
