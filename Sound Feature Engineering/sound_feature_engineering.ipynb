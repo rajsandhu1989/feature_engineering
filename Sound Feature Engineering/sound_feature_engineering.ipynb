{
 "cells": [
  {
   "cell_type": "code",
   "execution_count": 2,
   "metadata": {},
   "outputs": [],
   "source": [
    "import pandas as pd\n",
    "import numpy as np\n",
    "import matplotlib.pyplot as plt"
   ]
  },
  {
   "cell_type": "markdown",
   "metadata": {},
   "source": [
    "## Import packages we will use for importing and extracting information fromsound files"
   ]
  },
  {
   "cell_type": "code",
   "execution_count": 4,
   "metadata": {},
   "outputs": [],
   "source": [
    "import librosa as lr\n",
    "from glob import glob"
   ]
  },
  {
   "cell_type": "code",
   "execution_count": 5,
   "metadata": {},
   "outputs": [
    {
     "data": {
      "text/html": [
       "<div>\n",
       "<style scoped>\n",
       "    .dataframe tbody tr th:only-of-type {\n",
       "        vertical-align: middle;\n",
       "    }\n",
       "\n",
       "    .dataframe tbody tr th {\n",
       "        vertical-align: top;\n",
       "    }\n",
       "\n",
       "    .dataframe thead th {\n",
       "        text-align: right;\n",
       "    }\n",
       "</style>\n",
       "<table border=\"1\" class=\"dataframe\">\n",
       "  <thead>\n",
       "    <tr style=\"text-align: right;\">\n",
       "      <th></th>\n",
       "      <th>dataset</th>\n",
       "      <th>fname</th>\n",
       "      <th>label</th>\n",
       "      <th>sublabel</th>\n",
       "    </tr>\n",
       "  </thead>\n",
       "  <tbody>\n",
       "    <tr>\n",
       "      <th>0</th>\n",
       "      <td>a</td>\n",
       "      <td>set_a/artifact__201012172012.wav</td>\n",
       "      <td>artifact</td>\n",
       "      <td>NaN</td>\n",
       "    </tr>\n",
       "    <tr>\n",
       "      <th>1</th>\n",
       "      <td>a</td>\n",
       "      <td>set_a/artifact__201105040918.wav</td>\n",
       "      <td>artifact</td>\n",
       "      <td>NaN</td>\n",
       "    </tr>\n",
       "    <tr>\n",
       "      <th>2</th>\n",
       "      <td>a</td>\n",
       "      <td>set_a/artifact__201105041959.wav</td>\n",
       "      <td>artifact</td>\n",
       "      <td>NaN</td>\n",
       "    </tr>\n",
       "    <tr>\n",
       "      <th>3</th>\n",
       "      <td>a</td>\n",
       "      <td>set_a/artifact__201105051017.wav</td>\n",
       "      <td>artifact</td>\n",
       "      <td>NaN</td>\n",
       "    </tr>\n",
       "    <tr>\n",
       "      <th>4</th>\n",
       "      <td>a</td>\n",
       "      <td>set_a/artifact__201105060108.wav</td>\n",
       "      <td>artifact</td>\n",
       "      <td>NaN</td>\n",
       "    </tr>\n",
       "  </tbody>\n",
       "</table>\n",
       "</div>"
      ],
      "text/plain": [
       "  dataset                             fname     label  sublabel\n",
       "0       a  set_a/artifact__201012172012.wav  artifact       NaN\n",
       "1       a  set_a/artifact__201105040918.wav  artifact       NaN\n",
       "2       a  set_a/artifact__201105041959.wav  artifact       NaN\n",
       "3       a  set_a/artifact__201105051017.wav  artifact       NaN\n",
       "4       a  set_a/artifact__201105060108.wav  artifact       NaN"
      ]
     },
     "execution_count": 5,
     "metadata": {},
     "output_type": "execute_result"
    }
   ],
   "source": [
    "#read the csv file which contains informatiion about the audio files\n",
    "data_df=pd.read_csv('set_a.csv')\n",
    "data_df.head()"
   ]
  },
  {
   "cell_type": "code",
   "execution_count": 6,
   "metadata": {},
   "outputs": [
    {
     "data": {
      "text/plain": [
       "dataset       0\n",
       "fname         0\n",
       "label        52\n",
       "sublabel    176\n",
       "dtype: int64"
      ]
     },
     "execution_count": 6,
     "metadata": {},
     "output_type": "execute_result"
    }
   ],
   "source": [
    "data_df.isna().sum()"
   ]
  },
  {
   "cell_type": "code",
   "execution_count": 7,
   "metadata": {},
   "outputs": [],
   "source": [
    "#we should also drop the column sublabel because it doesnot have any input\n",
    "data_df=data_df.drop(labels='sublabel', axis=1)\n",
    "# rows with missing value doesnot contain any important information, we should drop them\n",
    "data_df=data_df.dropna(axis=0)"
   ]
  },
  {
   "cell_type": "code",
   "execution_count": 8,
   "metadata": {},
   "outputs": [
    {
     "data": {
      "text/plain": [
       "dataset    0\n",
       "fname      0\n",
       "label      0\n",
       "dtype: int64"
      ]
     },
     "execution_count": 8,
     "metadata": {},
     "output_type": "execute_result"
    }
   ],
   "source": [
    "data_df.isna().sum()"
   ]
  },
  {
   "cell_type": "markdown",
   "metadata": {},
   "source": [
    "## Import Audio files into workspcae using the glob package"
   ]
  },
  {
   "cell_type": "code",
   "execution_count": 9,
   "metadata": {},
   "outputs": [],
   "source": [
    "audio_files=glob('set_a/*.wav')"
   ]
  },
  {
   "cell_type": "code",
   "execution_count": 11,
   "metadata": {},
   "outputs": [
    {
     "name": "stdout",
     "output_type": "stream",
     "text": [
      "22050\n"
     ]
    }
   ],
   "source": [
    "# Read the first audio file and plot it\n",
    "audio, sfreq= lr.load(audio_files[0])\n",
    "# The frequency of Audio file [0] is\n",
    "print(sfreq)"
   ]
  },
  {
   "cell_type": "code",
   "execution_count": 12,
   "metadata": {},
   "outputs": [
    {
     "name": "stdout",
     "output_type": "stream",
     "text": [
      "set_a\\artifact__201012172012.wav\n"
     ]
    }
   ],
   "source": [
    "print(audio_files[0])"
   ]
  },
  {
   "cell_type": "code",
   "execution_count": 13,
   "metadata": {},
   "outputs": [
    {
     "data": {
      "image/png": "[encoded data removed]",
      "text/plain": [
       "<Figure size 432x288 with 1 Axes>"
      ]
     },
     "metadata": {
      "needs_background": "light"
     },
     "output_type": "display_data"
    }
   ],
   "source": [
    "# Create the time range for plotting the frequency\n",
    "time=np.arange(0,len(audio))/sfreq\n",
    "# plot the frequency\n",
    "plt.plot(time, audio)\n",
    "plt.xlabel(\"Time\")\n",
    "plt.ylabel(\"Frequency of Audio File\")\n",
    "plt.title(\"Change in Frequency with Time of First Audio\")\n",
    "plt.savefig(\"first.png\", dpi=300)\n",
    "plt.show()"
   ]
  },
  {
   "cell_type": "code",
   "execution_count": 16,
   "metadata": {},
   "outputs": [
    {
     "name": "stdout",
     "output_type": "stream",
     "text": [
      "-0.73076606\n"
     ]
    }
   ],
   "source": [
    "print(audio.min())"
   ]
  },
  {
   "cell_type": "code",
   "execution_count": 15,
   "metadata": {},
   "outputs": [],
   "source": [
    "data_df[['sfreq','min','mean','max']]=\"\""
   ]
  },
  {
   "cell_type": "code",
   "execution_count": 17,
   "metadata": {},
   "outputs": [],
   "source": [
    "for i in range(len(audio_files)):\n",
    "    audio, sfreq =lr.load(audio_files[i])\n",
    "    data_df.loc[data_df['fname']==audio_files[i].replace('\\\\','/'), 'sfreq']=sfreq\n",
    "    data_df.loc[data_df['fname']==audio_files[i].replace('\\\\','/'), 'min']=audio.min()\n",
    "    data_df.loc[data_df['fname']==audio_files[i].replace('\\\\','/'), 'mean']=audio.mean()\n",
    "    data_df.loc[data_df['fname']==audio_files[i].replace('\\\\','/'), 'max']=audio.max()"
   ]
  },
  {
   "cell_type": "code",
   "execution_count": 18,
   "metadata": {},
   "outputs": [
    {
     "data": {
      "text/html": [
       "<div>\n",
       "<style scoped>\n",
       "    .dataframe tbody tr th:only-of-type {\n",
       "        vertical-align: middle;\n",
       "    }\n",
       "\n",
       "    .dataframe tbody tr th {\n",
       "        vertical-align: top;\n",
       "    }\n",
       "\n",
       "    .dataframe thead th {\n",
       "        text-align: right;\n",
       "    }\n",
       "</style>\n",
       "<table border=\"1\" class=\"dataframe\">\n",
       "  <thead>\n",
       "    <tr style=\"text-align: right;\">\n",
       "      <th></th>\n",
       "      <th>dataset</th>\n",
       "      <th>fname</th>\n",
       "      <th>label</th>\n",
       "      <th>sfreq</th>\n",
       "      <th>min</th>\n",
       "      <th>mean</th>\n",
       "      <th>max</th>\n",
       "    </tr>\n",
       "  </thead>\n",
       "  <tbody>\n",
       "    <tr>\n",
       "      <th>0</th>\n",
       "      <td>a</td>\n",
       "      <td>set_a/artifact__201012172012.wav</td>\n",
       "      <td>artifact</td>\n",
       "      <td>22050</td>\n",
       "      <td>-0.730766</td>\n",
       "      <td>-1.04662e-05</td>\n",
       "      <td>0.712701</td>\n",
       "    </tr>\n",
       "    <tr>\n",
       "      <th>1</th>\n",
       "      <td>a</td>\n",
       "      <td>set_a/artifact__201105040918.wav</td>\n",
       "      <td>artifact</td>\n",
       "      <td>22050</td>\n",
       "      <td>-0.0173211</td>\n",
       "      <td>-1.10528e-06</td>\n",
       "      <td>0.0158929</td>\n",
       "    </tr>\n",
       "    <tr>\n",
       "      <th>2</th>\n",
       "      <td>a</td>\n",
       "      <td>set_a/artifact__201105041959.wav</td>\n",
       "      <td>artifact</td>\n",
       "      <td>22050</td>\n",
       "      <td>-0.0204537</td>\n",
       "      <td>4.74498e-07</td>\n",
       "      <td>0.0195355</td>\n",
       "    </tr>\n",
       "    <tr>\n",
       "      <th>3</th>\n",
       "      <td>a</td>\n",
       "      <td>set_a/artifact__201105051017.wav</td>\n",
       "      <td>artifact</td>\n",
       "      <td>22050</td>\n",
       "      <td>-0.920064</td>\n",
       "      <td>-1.36942e-05</td>\n",
       "      <td>0.762148</td>\n",
       "    </tr>\n",
       "    <tr>\n",
       "      <th>4</th>\n",
       "      <td>a</td>\n",
       "      <td>set_a/artifact__201105060108.wav</td>\n",
       "      <td>artifact</td>\n",
       "      <td>22050</td>\n",
       "      <td>-0.905326</td>\n",
       "      <td>-2.86369e-05</td>\n",
       "      <td>0.924389</td>\n",
       "    </tr>\n",
       "  </tbody>\n",
       "</table>\n",
       "</div>"
      ],
      "text/plain": [
       "  dataset                             fname     label  sfreq        min  \\\n",
       "0       a  set_a/artifact__201012172012.wav  artifact  22050  -0.730766   \n",
       "1       a  set_a/artifact__201105040918.wav  artifact  22050 -0.0173211   \n",
       "2       a  set_a/artifact__201105041959.wav  artifact  22050 -0.0204537   \n",
       "3       a  set_a/artifact__201105051017.wav  artifact  22050  -0.920064   \n",
       "4       a  set_a/artifact__201105060108.wav  artifact  22050  -0.905326   \n",
       "\n",
       "          mean        max  \n",
       "0 -1.04662e-05   0.712701  \n",
       "1 -1.10528e-06  0.0158929  \n",
       "2  4.74498e-07  0.0195355  \n",
       "3 -1.36942e-05   0.762148  \n",
       "4 -2.86369e-05   0.924389  "
      ]
     },
     "execution_count": 18,
     "metadata": {},
     "output_type": "execute_result"
    }
   ],
   "source": [
    "data_df.head()"
   ]
  },
  {
   "cell_type": "markdown",
   "metadata": {},
   "source": [
    "## Need to change the label to numeric value so that classification can be done"
   ]
  },
  {
   "cell_type": "code",
   "execution_count": 19,
   "metadata": {},
   "outputs": [],
   "source": [
    "data_df['class']=\"\"\n",
    "data_df.loc[data_df.label=='normal', 'class']=0\n",
    "data_df.loc[data_df.label!='normal','class']=1"
   ]
  },
  {
   "cell_type": "code",
   "execution_count": 20,
   "metadata": {},
   "outputs": [
    {
     "data": {
      "text/html": [
       "<div>\n",
       "<style scoped>\n",
       "    .dataframe tbody tr th:only-of-type {\n",
       "        vertical-align: middle;\n",
       "    }\n",
       "\n",
       "    .dataframe tbody tr th {\n",
       "        vertical-align: top;\n",
       "    }\n",
       "\n",
       "    .dataframe thead th {\n",
       "        text-align: right;\n",
       "    }\n",
       "</style>\n",
       "<table border=\"1\" class=\"dataframe\">\n",
       "  <thead>\n",
       "    <tr style=\"text-align: right;\">\n",
       "      <th></th>\n",
       "      <th>dataset</th>\n",
       "      <th>fname</th>\n",
       "      <th>label</th>\n",
       "      <th>sfreq</th>\n",
       "      <th>min</th>\n",
       "      <th>mean</th>\n",
       "      <th>max</th>\n",
       "      <th>class</th>\n",
       "    </tr>\n",
       "  </thead>\n",
       "  <tbody>\n",
       "    <tr>\n",
       "      <th>0</th>\n",
       "      <td>a</td>\n",
       "      <td>set_a/artifact__201012172012.wav</td>\n",
       "      <td>artifact</td>\n",
       "      <td>22050</td>\n",
       "      <td>-0.730766</td>\n",
       "      <td>-1.04662e-05</td>\n",
       "      <td>0.712701</td>\n",
       "      <td>1</td>\n",
       "    </tr>\n",
       "    <tr>\n",
       "      <th>1</th>\n",
       "      <td>a</td>\n",
       "      <td>set_a/artifact__201105040918.wav</td>\n",
       "      <td>artifact</td>\n",
       "      <td>22050</td>\n",
       "      <td>-0.0173211</td>\n",
       "      <td>-1.10528e-06</td>\n",
       "      <td>0.0158929</td>\n",
       "      <td>1</td>\n",
       "    </tr>\n",
       "    <tr>\n",
       "      <th>2</th>\n",
       "      <td>a</td>\n",
       "      <td>set_a/artifact__201105041959.wav</td>\n",
       "      <td>artifact</td>\n",
       "      <td>22050</td>\n",
       "      <td>-0.0204537</td>\n",
       "      <td>4.74498e-07</td>\n",
       "      <td>0.0195355</td>\n",
       "      <td>1</td>\n",
       "    </tr>\n",
       "    <tr>\n",
       "      <th>3</th>\n",
       "      <td>a</td>\n",
       "      <td>set_a/artifact__201105051017.wav</td>\n",
       "      <td>artifact</td>\n",
       "      <td>22050</td>\n",
       "      <td>-0.920064</td>\n",
       "      <td>-1.36942e-05</td>\n",
       "      <td>0.762148</td>\n",
       "      <td>1</td>\n",
       "    </tr>\n",
       "    <tr>\n",
       "      <th>4</th>\n",
       "      <td>a</td>\n",
       "      <td>set_a/artifact__201105060108.wav</td>\n",
       "      <td>artifact</td>\n",
       "      <td>22050</td>\n",
       "      <td>-0.905326</td>\n",
       "      <td>-2.86369e-05</td>\n",
       "      <td>0.924389</td>\n",
       "      <td>1</td>\n",
       "    </tr>\n",
       "  </tbody>\n",
       "</table>\n",
       "</div>"
      ],
      "text/plain": [
       "  dataset                             fname     label  sfreq        min  \\\n",
       "0       a  set_a/artifact__201012172012.wav  artifact  22050  -0.730766   \n",
       "1       a  set_a/artifact__201105040918.wav  artifact  22050 -0.0173211   \n",
       "2       a  set_a/artifact__201105041959.wav  artifact  22050 -0.0204537   \n",
       "3       a  set_a/artifact__201105051017.wav  artifact  22050  -0.920064   \n",
       "4       a  set_a/artifact__201105060108.wav  artifact  22050  -0.905326   \n",
       "\n",
       "          mean        max class  \n",
       "0 -1.04662e-05   0.712701     1  \n",
       "1 -1.10528e-06  0.0158929     1  \n",
       "2  4.74498e-07  0.0195355     1  \n",
       "3 -1.36942e-05   0.762148     1  \n",
       "4 -2.86369e-05   0.924389     1  "
      ]
     },
     "execution_count": 20,
     "metadata": {},
     "output_type": "execute_result"
    }
   ],
   "source": [
    "data_df.head()"
   ]
  },
  {
   "cell_type": "markdown",
   "metadata": {},
   "source": [
    "## Let's see how a simple machine learning algorithm works on this dataset"
   ]
  },
  {
   "cell_type": "code",
   "execution_count": 60,
   "metadata": {},
   "outputs": [
    {
     "data": {
      "text/plain": [
       "'The testing accuracy is 0.7368421052631579'"
      ]
     },
     "metadata": {},
     "output_type": "display_data"
    },
    {
     "data": {
      "text/plain": [
       "'The training accuracy is 0.7558139534883721'"
      ]
     },
     "metadata": {},
     "output_type": "display_data"
    }
   ],
   "source": [
    "from sklearn.svm import LinearSVC\n",
    "from sklearn.model_selection import train_test_split\n",
    "from sklearn.metrics import accuracy_score\n",
    "model=LinearSVC()\n",
    "#extract the features and label in seperate sheet\n",
    "X=data_df[['min','mean','max']].values\n",
    "y=data_df['class'].values.astype(int)\n",
    "#Split the dataset\n",
    "X_train, X_test, y_train, y_test=train_test_split(X,y,test_size=0.3, stratify=y, random_state=111)\n",
    "model.fit(X_train,y_train)\n",
    "predictions=model.predict(X_test)\n",
    "display('The testing accuracy is {}'.format(accuracy_score(y_test, predictions)))\n",
    "predictions=model.predict(X_train)\n",
    "display('The training accuracy is {}'.format(accuracy_score(y_train, predictions)))\n"
   ]
  },
  {
   "cell_type": "markdown",
   "metadata": {},
   "source": [
    "## This is simple feature engineering for sound waveform. Now lets create an envolpe for the waveform"
   ]
  },
  {
   "cell_type": "code",
   "execution_count": 69,
   "metadata": {},
   "outputs": [
    {
     "data": {
      "image/png": "[encoded data removed]",
      "text/plain": [
       "<Figure size 432x288 with 1 Axes>"
      ]
     },
     "metadata": {
      "needs_background": "light"
     },
     "output_type": "display_data"
    }
   ],
   "source": [
    "audio, sfreq=lr.load(audio_files[50])\n",
    "time=np.arange(0,len(audio))/sfreq\n",
    "plt.plot(time, audio)\n",
    "plt.xlabel(\"Time\")\n",
    "plt.ylabel(\"Frequency of Audio File\")\n",
    "plt.title(\"Change in Frequency with Time of First Audio\")\n",
    "plt.savefig(\"2.png\", dpi=300)\n",
    "plt.show()"
   ]
  },
  {
   "cell_type": "code",
   "execution_count": 70,
   "metadata": {},
   "outputs": [
    {
     "data": {
      "image/png": "[encoded data removed]",
      "text/plain": [
       "<Figure size 432x288 with 1 Axes>"
      ]
     },
     "metadata": {
      "needs_background": "light"
     },
     "output_type": "display_data"
    }
   ],
   "source": [
    "#recitified the -ve values in audio\n",
    "audio_rect=np.abs(audio)\n",
    "#plot the graph for rectified\n",
    "plt.plot(time, audio_rect)\n",
    "plt.xlabel(\"Time\")\n",
    "plt.ylabel(\"Frequency of Audio File\")\n",
    "plt.title(\"Change in Frequency with Time of First Audio\")\n",
    "plt.savefig(\"3.png\", dpi=300)\n",
    "plt.show()"
   ]
  },
  {
   "cell_type": "code",
   "execution_count": 88,
   "metadata": {},
   "outputs": [
    {
     "name": "stdout",
     "output_type": "stream",
     "text": [
      "<class 'numpy.ndarray'>\n"
     ]
    }
   ],
   "source": [
    "print(type(audio))"
   ]
  },
  {
   "cell_type": "code",
   "execution_count": 87,
   "metadata": {},
   "outputs": [
    {
     "data": {
      "image/png": "[encoded data removed]",
      "text/plain": [
       "<Figure size 432x288 with 1 Axes>"
      ]
     },
     "metadata": {
      "needs_background": "light"
     },
     "output_type": "display_data"
    }
   ],
   "source": [
    "#Now create envolpe using rolling window\n",
    "audio_env=pd.DataFrame(audio_rect)\n",
    "audio_env=audio_env.rolling(3000).mean()\n",
    "audio_env=audio_env.to_numpy()\n",
    "#plot the graph for smooth audio\n",
    "plt.plot(time, audio_env)\n",
    "plt.xlabel(\"Time\")\n",
    "plt.ylabel(\"Frequency of Audio File\")\n",
    "plt.title(\"Change in Frequency with Time of First Audio\")\n",
    "plt.savefig(\"4.png\", dpi=300)\n",
    "plt.show()"
   ]
  },
  {
   "cell_type": "code",
   "execution_count": 111,
   "metadata": {},
   "outputs": [
    {
     "data": {
      "text/html": [
       "<div>\n",
       "<style scoped>\n",
       "    .dataframe tbody tr th:only-of-type {\n",
       "        vertical-align: middle;\n",
       "    }\n",
       "\n",
       "    .dataframe tbody tr th {\n",
       "        vertical-align: top;\n",
       "    }\n",
       "\n",
       "    .dataframe thead th {\n",
       "        text-align: right;\n",
       "    }\n",
       "</style>\n",
       "<table border=\"1\" class=\"dataframe\">\n",
       "  <thead>\n",
       "    <tr style=\"text-align: right;\">\n",
       "      <th></th>\n",
       "      <th>0</th>\n",
       "      <th>1</th>\n",
       "    </tr>\n",
       "  </thead>\n",
       "  <tbody>\n",
       "    <tr>\n",
       "      <th>0</th>\n",
       "      <td>set_a\\artifact__201012172012.wav</td>\n",
       "      <td>[2.2960085e-05, -0.00012982322, -0.00018070513...</td>\n",
       "    </tr>\n",
       "    <tr>\n",
       "      <th>1</th>\n",
       "      <td>set_a\\artifact__201105040918.wav</td>\n",
       "      <td>[-1.0927635e-05, 1.0574424e-06, 2.108567e-06, ...</td>\n",
       "    </tr>\n",
       "    <tr>\n",
       "      <th>2</th>\n",
       "      <td>set_a\\artifact__201105041959.wav</td>\n",
       "      <td>[3.728857e-05, -0.0001664555, -7.4023155e-05, ...</td>\n",
       "    </tr>\n",
       "    <tr>\n",
       "      <th>3</th>\n",
       "      <td>set_a\\artifact__201105051017.wav</td>\n",
       "      <td>[-0.0027429417, -0.0066496185, -0.0049779303, ...</td>\n",
       "    </tr>\n",
       "    <tr>\n",
       "      <th>4</th>\n",
       "      <td>set_a\\artifact__201105060108.wav</td>\n",
       "      <td>[0.000106223946, 0.0015002153, 0.0097254915, 0...</td>\n",
       "    </tr>\n",
       "  </tbody>\n",
       "</table>\n",
       "</div>"
      ],
      "text/plain": [
       "                                  0  \\\n",
       "0  set_a\\artifact__201012172012.wav   \n",
       "1  set_a\\artifact__201105040918.wav   \n",
       "2  set_a\\artifact__201105041959.wav   \n",
       "3  set_a\\artifact__201105051017.wav   \n",
       "4  set_a\\artifact__201105060108.wav   \n",
       "\n",
       "                                                   1  \n",
       "0  [2.2960085e-05, -0.00012982322, -0.00018070513...  \n",
       "1  [-1.0927635e-05, 1.0574424e-06, 2.108567e-06, ...  \n",
       "2  [3.728857e-05, -0.0001664555, -7.4023155e-05, ...  \n",
       "3  [-0.0027429417, -0.0066496185, -0.0049779303, ...  \n",
       "4  [0.000106223946, 0.0015002153, 0.0097254915, 0...  "
      ]
     },
     "execution_count": 111,
     "metadata": {},
     "output_type": "execute_result"
    }
   ],
   "source": [
    "files=[]\n",
    "for i in range(5):\n",
    "    audio, sfreq=lr.load(audio_files[i])\n",
    "    files.append([audio_files[i],audio])\n",
    "audio_all=pd.DataFrame(files)\n",
    "audio_all.head()"
   ]
  },
  {
   "cell_type": "code",
   "execution_count": 91,
   "metadata": {},
   "outputs": [],
   "source": []
  },
  {
   "cell_type": "code",
   "execution_count": 92,
   "metadata": {},
   "outputs": [
    {
     "data": {
      "text/plain": [
       "(176, 198450)"
      ]
     },
     "execution_count": 92,
     "metadata": {},
     "output_type": "execute_result"
    }
   ],
   "source": []
  },
  {
   "cell_type": "code",
   "execution_count": 106,
   "metadata": {},
   "outputs": [],
   "source": [
    "a=[1,2,3,4]\n",
    "b=\"sandhu\"\n",
    "x=[]"
   ]
  },
  {
   "cell_type": "code",
   "execution_count": 107,
   "metadata": {},
   "outputs": [],
   "source": [
    "x.append((a,b))"
   ]
  },
  {
   "cell_type": "code",
   "execution_count": 108,
   "metadata": {},
   "outputs": [
    {
     "name": "stdout",
     "output_type": "stream",
     "text": [
      "[([1, 2, 3, 4], 'sandhu')]\n"
     ]
    }
   ],
   "source": [
    "print(x)"
   ]
  },
  {
   "cell_type": "code",
   "execution_count": null,
   "metadata": {},
   "outputs": [],
   "source": []
  }
 ],
 "metadata": {
  "interpreter": {
   "hash": "b3ba2566441a7c06988d0923437866b63cedc61552a5af99d1f4fb67d367b25f"
  },
  "kernelspec": {
   "display_name": "Python 3.8.5 64-bit ('base': conda)",
   "name": "python3"
  },
  "language_info": {
   "codemirror_mode": {
    "name": "ipython",
    "version": 3
   },
   "file_extension": ".py",
   "mimetype": "text/x-python",
   "name": "python",
   "nbconvert_exporter": "python",
   "pygments_lexer": "ipython3",
   "version": "3.8.5"
  },
  "orig_nbformat": 4
 },
 "nbformat": 4,
 "nbformat_minor": 2
}
